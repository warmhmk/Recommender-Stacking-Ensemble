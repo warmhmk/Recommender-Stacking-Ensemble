{
  "cells": [
    {
      "cell_type": "markdown",
      "metadata": {
        "id": "CFxGj1AZnAWJ"
      },
      "source": [
        "### Instruction for running the code:\n",
        "- This code requires T4 GPU to run. It uses a library that allow random forest regression model to run on GPU.\n",
        "- High RAM is recommeneded."
      ]
    },
    {
      "cell_type": "markdown",
      "metadata": {
        "id": "L4B55MPOmbj6"
      },
      "source": [
        "### Mount drive"
      ]
    },
    {
      "cell_type": "code",
      "execution_count": 1,
      "metadata": {
        "colab": {
          "base_uri": "https://localhost:8080/"
        },
        "id": "8gq3v2s2ysuo",
        "outputId": "39b2237e-b04f-4429-f80f-6d086bb1bc71"
      },
      "outputs": [
        {
          "name": "stdout",
          "output_type": "stream",
          "text": [
            "Mounted at /content/drive\n"
          ]
        }
      ],
      "source": [
        "from google.colab import drive\n",
        "drive.mount('/content/drive')"
      ]
    },
    {
      "cell_type": "markdown",
      "metadata": {
        "id": "HpIYUVDCmySM"
      },
      "source": [
        "### Make imports"
      ]
    },
    {
      "cell_type": "code",
      "execution_count": 2,
      "metadata": {
        "colab": {
          "base_uri": "https://localhost:8080/"
        },
        "id": "wZDvhhAy2Clm",
        "outputId": "64a3f80b-c452-4ec2-bc1f-4d4fc3b2297b"
      },
      "outputs": [
        {
          "name": "stdout",
          "output_type": "stream",
          "text": [
            "Collecting implicit\n",
            "  Downloading implicit-0.7.2-cp310-cp310-manylinux2014_x86_64.whl (8.9 MB)\n",
            "\u001b[2K     \u001b[90m━━━━━━━━━━━━━━━━━━━━━━━━━━━━━━━━━━━━━━━━\u001b[0m \u001b[32m8.9/8.9 MB\u001b[0m \u001b[31m37.5 MB/s\u001b[0m eta \u001b[36m0:00:00\u001b[0m\n",
            "\u001b[?25hRequirement already satisfied: numpy>=1.17.0 in /usr/local/lib/python3.10/dist-packages (from implicit) (1.25.2)\n",
            "Requirement already satisfied: scipy>=0.16 in /usr/local/lib/python3.10/dist-packages (from implicit) (1.11.4)\n",
            "Requirement already satisfied: tqdm>=4.27 in /usr/local/lib/python3.10/dist-packages (from implicit) (4.66.4)\n",
            "Requirement already satisfied: threadpoolctl in /usr/local/lib/python3.10/dist-packages (from implicit) (3.5.0)\n",
            "Installing collected packages: implicit\n",
            "Successfully installed implicit-0.7.2\n",
            "Collecting scikit-surprise\n",
            "  Downloading scikit_surprise-1.1.4.tar.gz (154 kB)\n",
            "\u001b[2K     \u001b[90m━━━━━━━━━━━━━━━━━━━━━━━━━━━━━━━━━━━━━━━━\u001b[0m \u001b[32m154.4/154.4 kB\u001b[0m \u001b[31m3.4 MB/s\u001b[0m eta \u001b[36m0:00:00\u001b[0m\n",
            "\u001b[?25h  Installing build dependencies ... \u001b[?25l\u001b[?25hdone\n",
            "  Getting requirements to build wheel ... \u001b[?25l\u001b[?25hdone\n",
            "  Preparing metadata (pyproject.toml) ... \u001b[?25l\u001b[?25hdone\n",
            "Requirement already satisfied: joblib>=1.2.0 in /usr/local/lib/python3.10/dist-packages (from scikit-surprise) (1.4.2)\n",
            "Requirement already satisfied: numpy>=1.19.5 in /usr/local/lib/python3.10/dist-packages (from scikit-surprise) (1.25.2)\n",
            "Requirement already satisfied: scipy>=1.6.0 in /usr/local/lib/python3.10/dist-packages (from scikit-surprise) (1.11.4)\n",
            "Building wheels for collected packages: scikit-surprise\n",
            "  Building wheel for scikit-surprise (pyproject.toml) ... \u001b[?25l\u001b[?25hdone\n",
            "  Created wheel for scikit-surprise: filename=scikit_surprise-1.1.4-cp310-cp310-linux_x86_64.whl size=2357227 sha256=27c39aff783963ab9a8a3452c5558d433f14781f954285d8a4afd81e40f1138a\n",
            "  Stored in directory: /root/.cache/pip/wheels/4b/3f/df/6acbf0a40397d9bf3ff97f582cc22fb9ce66adde75bc71fd54\n",
            "Successfully built scikit-surprise\n",
            "Installing collected packages: scikit-surprise\n",
            "Successfully installed scikit-surprise-1.1.4\n"
          ]
        }
      ],
      "source": [
        "!pip install implicit\n",
        "import implicit\n",
        "from sklearn.preprocessing import MinMaxScaler\n",
        "from sklearn.metrics import mean_squared_error\n",
        "from sklearn.model_selection import KFold\n",
        "from sklearn.ensemble import RandomForestRegressor\n",
        "from sklearn import metrics\n",
        "from sklearn.neighbors import NearestNeighbors\n",
        "from scipy.sparse import csr_matrix\n",
        "from sklearn.metrics.pairwise import cosine_similarity\n",
        "import scipy.sparse as sparse\n",
        "import pandas as pd\n",
        "import numpy as np\n",
        "import random\n",
        "from tqdm import tqdm\n",
        "\n",
        "!pip install scikit-surprise\n",
        "from surprise import Reader, Dataset, SVD, KNNBasic, KNNWithZScore, KNNWithMeans, KNNBaseline, CoClustering, SlopeOne\n",
        "from surprise.model_selection import cross_validate, train_test_split\n",
        "from surprise import NMF\n",
        "\n",
        "import torch\n",
        "import torch.nn as nn\n",
        "import torch.nn.functional as F\n",
        "from itertools import product\n",
        "\n",
        "pd.options.mode.copy_on_write = True"
      ]
    },
    {
      "cell_type": "markdown",
      "metadata": {
        "id": "Irfpy2hnniF1"
      },
      "source": [
        "This part installs the library RAPIDS which allow models to run on GPU. Random forest regressor model from sklearn only runs on CPU. This takes a long time when doing hyperparameter tuning. So, I decided to use this library instead. I have the code that does hyperparameter tuning for RF and this saves a lot of time.\n",
        "\n",
        "Please refer to this link for more info: https://colab.research.google.com/drive/13sspqiEZwso4NYTbsflpPyNFaVAAxUgr and https://www.kaggle.com/code/jonaspalucibarbosa/30days-random-forest-on-gpu-rapids\n",
        "\n",
        "The following command should install the library in less than 5 minutes. The successful installation should show the current output.\n"
      ]
    },
    {
      "cell_type": "code",
      "execution_count": 3,
      "metadata": {
        "colab": {
          "base_uri": "https://localhost:8080/"
        },
        "id": "AiPnnyOWdQ-D",
        "outputId": "72d3c38b-f479-4515-c24d-62a0de7d56e9"
      },
      "outputs": [
        {
          "name": "stdout",
          "output_type": "stream",
          "text": [
            "Cloning into 'rapidsai-csp-utils'...\n",
            "remote: Enumerating objects: 481, done.\u001b[K\n",
            "remote: Counting objects: 100% (212/212), done.\u001b[K\n",
            "remote: Compressing objects: 100% (121/121), done.\u001b[K\n",
            "remote: Total 481 (delta 143), reused 124 (delta 91), pack-reused 269\u001b[K\n",
            "Receiving objects: 100% (481/481), 133.58 KiB | 970.00 KiB/s, done.\n",
            "Resolving deltas: 100% (245/245), done.\n",
            "Collecting pynvml\n",
            "  Downloading pynvml-11.5.0-py3-none-any.whl (53 kB)\n",
            "     ━━━━━━━━━━━━━━━━━━━━━━━━━━━━━━━━━━━━━━━━ 53.1/53.1 kB 1.9 MB/s eta 0:00:00\n",
            "Installing collected packages: pynvml\n",
            "Successfully installed pynvml-11.5.0\n",
            "***********************************************************************\n",
            "Woo! Your instance has a Tesla T4 GPU!\n",
            "We will install the latest stable RAPIDS via pip 24.4.*!  Please stand by, should be quick...\n",
            "***********************************************************************\n",
            "\n",
            "Looking in indexes: https://pypi.org/simple, https://pypi.nvidia.com\n",
            "Collecting cuml-cu12==24.4.*\n",
            "  Downloading https://pypi.nvidia.com/cuml-cu12/cuml_cu12-24.4.0-cp310-cp310-manylinux_2_17_x86_64.manylinux2014_x86_64.whl (1200.7 MB)\n",
            "     ━━━━━━━━━━━━━━━━━━━━━━━━━━━━━━━━━━━━━━━━ 1.2/1.2 GB 1.7 MB/s eta 0:00:00\n",
            "Collecting cugraph-cu12==24.4.*\n",
            "  Downloading https://pypi.nvidia.com/cugraph-cu12/cugraph_cu12-24.4.0-cp310-cp310-manylinux_2_17_x86_64.manylinux2014_x86_64.whl (1429.1 MB)\n",
            "     ━━━━━━━━━━━━━━━━━━━━━━━━━━━━━━━━━━━━━━━━ 1.4/1.4 GB 1.4 MB/s eta 0:00:00\n",
            "Collecting cuspatial-cu12==24.4.*\n",
            "  Downloading https://pypi.nvidia.com/cuspatial-cu12/cuspatial_cu12-24.4.0-cp310-cp310-manylinux_2_17_x86_64.manylinux2014_x86_64.whl (137.8 MB)\n",
            "     ━━━━━━━━━━━━━━━━━━━━━━━━━━━━━━━━━━━━━━━━ 137.8/137.8 MB 12.0 MB/s eta 0:00:00\n",
            "Collecting cuproj-cu12==24.4.*\n",
            "  Downloading https://pypi.nvidia.com/cuproj-cu12/cuproj_cu12-24.4.0-cp310-cp310-manylinux_2_17_x86_64.manylinux2014_x86_64.whl (920 kB)\n",
            "     ━━━━━━━━━━━━━━━━━━━━━━━━━━━━━━━━━━━━━━━━ 920.9/920.9 kB 69.1 MB/s eta 0:00:00\n",
            "Collecting cuxfilter-cu12==24.4.*\n",
            "  Downloading https://pypi.nvidia.com/cuxfilter-cu12/cuxfilter_cu12-24.4.1-py3-none-any.whl (83 kB)\n",
            "     ━━━━━━━━━━━━━━━━━━━━━━━━━━━━━━━━━━━━━━━━ 83.5/83.5 kB 11.9 MB/s eta 0:00:00\n",
            "Collecting cucim-cu12==24.4.*\n",
            "  Downloading https://pypi.nvidia.com/cucim-cu12/cucim_cu12-24.4.0-cp310-cp310-manylinux_2_17_x86_64.manylinux2014_x86_64.whl (5.8 MB)\n",
            "     ━━━━━━━━━━━━━━━━━━━━━━━━━━━━━━━━━━━━━━━━ 5.8/5.8 MB 53.0 MB/s eta 0:00:00\n",
            "Collecting pylibraft-cu12==24.4.*\n",
            "  Downloading https://pypi.nvidia.com/pylibraft-cu12/pylibraft_cu12-24.4.0-cp310-cp310-manylinux_2_17_x86_64.manylinux2014_x86_64.whl (823.0 MB)\n",
            "     ━━━━━━━━━━━━━━━━━━━━━━━━━━━━━━━━━━━━━━━━ 823.0/823.0 MB 2.3 MB/s eta 0:00:00\n",
            "Collecting raft-dask-cu12==24.4.*\n",
            "  Downloading https://pypi.nvidia.com/raft-dask-cu12/raft_dask_cu12-24.4.0-cp310-cp310-manylinux_2_17_x86_64.manylinux2014_x86_64.whl (170.1 MB)\n",
            "     ━━━━━━━━━━━━━━━━━━━━━━━━━━━━━━━━━━━━━━━━ 170.1/170.1 MB 7.2 MB/s eta 0:00:00\n",
            "Requirement already satisfied: aiohttp in /usr/local/lib/python3.10/dist-packages (3.9.5)\n",
            "Requirement already satisfied: cudf-cu12==24.4.* in /usr/local/lib/python3.10/dist-packages (from cuml-cu12==24.4.*) (24.4.1)\n",
            "Requirement already satisfied: cupy-cuda12x>=12.0.0 in /usr/local/lib/python3.10/dist-packages (from cuml-cu12==24.4.*) (12.2.0)\n",
            "Collecting dask-cuda==24.4.* (from cuml-cu12==24.4.*)\n",
            "  Downloading dask_cuda-24.4.0-py3-none-any.whl (126 kB)\n",
            "     ━━━━━━━━━━━━━━━━━━━━━━━━━━━━━━━━━━━━━━━━ 126.6/126.6 kB 3.5 MB/s eta 0:00:00\n",
            "Collecting dask-cudf-cu12==24.4.* (from cuml-cu12==24.4.*)\n",
            "  Downloading https://pypi.nvidia.com/dask-cudf-cu12/dask_cudf_cu12-24.4.1-py3-none-any.whl (48 kB)\n",
            "     ━━━━━━━━━━━━━━━━━━━━━━━━━━━━━━━━━━━━━━━━ 48.9/48.9 kB 8.2 MB/s eta 0:00:00\n",
            "Requirement already satisfied: joblib>=0.11 in /usr/local/lib/python3.10/dist-packages (from cuml-cu12==24.4.*) (1.4.2)\n",
            "Requirement already satisfied: numba>=0.57 in /usr/local/lib/python3.10/dist-packages (from cuml-cu12==24.4.*) (0.58.1)\n",
            "Collecting rapids-dask-dependency==24.4.* (from cuml-cu12==24.4.*)\n",
            "  Downloading https://pypi.nvidia.com/rapids-dask-dependency/rapids_dask_dependency-24.4.1-py3-none-any.whl (15 kB)\n",
            "Requirement already satisfied: rmm-cu12==24.4.* in /usr/local/lib/python3.10/dist-packages (from cuml-cu12==24.4.*) (24.4.0)\n",
            "Requirement already satisfied: scipy>=1.8.0 in /usr/local/lib/python3.10/dist-packages (from cuml-cu12==24.4.*) (1.11.4)\n",
            "Collecting treelite==4.1.2 (from cuml-cu12==24.4.*)\n",
            "  Downloading treelite-4.1.2-py3-none-manylinux2014_x86_64.whl (810 kB)\n",
            "     ━━━━━━━━━━━━━━━━━━━━━━━━━━━━━━━━━━━━━━━━ 810.9/810.9 kB 1.8 MB/s eta 0:00:00\n",
            "Requirement already satisfied: fsspec[http]>=0.6.0 in /usr/local/lib/python3.10/dist-packages (from cugraph-cu12==24.4.*) (2023.6.0)\n",
            "Requirement already satisfied: numpy<2.0a0,>=1.23 in /usr/local/lib/python3.10/dist-packages (from cugraph-cu12==24.4.*) (1.25.2)\n",
            "Collecting pylibcugraph-cu12==24.4.* (from cugraph-cu12==24.4.*)\n",
            "  Downloading https://pypi.nvidia.com/pylibcugraph-cu12/pylibcugraph_cu12-24.4.0-cp310-cp310-manylinux_2_17_x86_64.manylinux2014_x86_64.whl (1430.2 MB)\n",
            "     ━━━━━━━━━━━━━━━━━━━━━━━━━━━━━━━━━━━━━━━━ 1.4/1.4 GB 1.5 MB/s eta 0:00:00\n",
            "Collecting ucx-py-cu12==0.37.* (from cugraph-cu12==24.4.*)\n",
            "  Downloading https://pypi.nvidia.com/ucx-py-cu12/ucx_py_cu12-0.37.0-cp310-cp310-manylinux_2_17_x86_64.manylinux2014_x86_64.whl (7.7 MB)\n",
            "     ━━━━━━━━━━━━━━━━━━━━━━━━━━━━━━━━━━━━━━━━ 7.7/7.7 MB 95.5 MB/s eta 0:00:00\n",
            "Requirement already satisfied: geopandas>=0.11.0 in /usr/local/lib/python3.10/dist-packages (from cuspatial-cu12==24.4.*) (0.13.2)\n",
            "Requirement already satisfied: bokeh>=3.1 in /usr/local/lib/python3.10/dist-packages (from cuxfilter-cu12==24.4.*) (3.3.4)\n",
            "Collecting datashader>=0.15 (from cuxfilter-cu12==24.4.*)\n",
            "  Downloading datashader-0.16.1-py2.py3-none-any.whl (18.3 MB)\n",
            "     ━━━━━━━━━━━━━━━━━━━━━━━━━━━━━━━━━━━━━━━━ 18.3/18.3 MB 76.2 MB/s eta 0:00:00\n",
            "Requirement already satisfied: holoviews>=1.16.0 in /usr/local/lib/python3.10/dist-packages (from cuxfilter-cu12==24.4.*) (1.17.1)\n",
            "Collecting jupyter-server-proxy (from cuxfilter-cu12==24.4.*)\n",
            "  Downloading jupyter_server_proxy-4.1.2-py3-none-any.whl (34 kB)\n",
            "Requirement already satisfied: packaging in /usr/local/lib/python3.10/dist-packages (from cuxfilter-cu12==24.4.*) (24.0)\n",
            "Requirement already satisfied: panel>=1.0 in /usr/local/lib/python3.10/dist-packages (from cuxfilter-cu12==24.4.*) (1.3.8)\n",
            "Requirement already satisfied: click in /usr/local/lib/python3.10/dist-packages (from cucim-cu12==24.4.*) (8.1.7)\n",
            "Requirement already satisfied: lazy-loader>=0.1 in /usr/local/lib/python3.10/dist-packages (from cucim-cu12==24.4.*) (0.4)\n",
            "Requirement already satisfied: scikit-image<0.23.0a0,>=0.19.0 in /usr/local/lib/python3.10/dist-packages (from cucim-cu12==24.4.*) (0.19.3)\n",
            "Requirement already satisfied: cuda-python<13.0a0,>=12.0 in /usr/local/lib/python3.10/dist-packages (from pylibraft-cu12==24.4.*) (12.2.1)\n",
            "Requirement already satisfied: cachetools in /usr/local/lib/python3.10/dist-packages (from cudf-cu12==24.4.*->cuml-cu12==24.4.*) (5.3.3)\n",
            "Requirement already satisfied: nvtx>=0.2.1 in /usr/local/lib/python3.10/dist-packages (from cudf-cu12==24.4.*->cuml-cu12==24.4.*) (0.2.10)\n",
            "Requirement already satisfied: pandas<2.2.2dev0,>=2.0 in /usr/local/lib/python3.10/dist-packages (from cudf-cu12==24.4.*->cuml-cu12==24.4.*) (2.0.3)\n",
            "Requirement already satisfied: protobuf<5,>=3.20 in /usr/local/lib/python3.10/dist-packages (from cudf-cu12==24.4.*->cuml-cu12==24.4.*) (3.20.3)\n",
            "Requirement already satisfied: pynvjitlink-cu12 in /usr/local/lib/python3.10/dist-packages (from cudf-cu12==24.4.*->cuml-cu12==24.4.*) (0.2.3)\n",
            "Requirement already satisfied: pyarrow<15.0.0a0,>=14.0.1 in /usr/local/lib/python3.10/dist-packages (from cudf-cu12==24.4.*->cuml-cu12==24.4.*) (14.0.2)\n",
            "Requirement already satisfied: rich in /usr/local/lib/python3.10/dist-packages (from cudf-cu12==24.4.*->cuml-cu12==24.4.*) (13.7.1)\n",
            "Requirement already satisfied: typing_extensions>=4.0.0 in /usr/local/lib/python3.10/dist-packages (from cudf-cu12==24.4.*->cuml-cu12==24.4.*) (4.11.0)\n",
            "Collecting pynvml<11.5,>=11.0.0 (from dask-cuda==24.4.*->cuml-cu12==24.4.*)\n",
            "  Downloading pynvml-11.4.1-py3-none-any.whl (46 kB)\n",
            "     ━━━━━━━━━━━━━━━━━━━━━━━━━━━━━━━━━━━━━━━━ 47.0/47.0 kB 7.1 MB/s eta 0:00:00\n",
            "Requirement already satisfied: zict>=2.0.0 in /usr/local/lib/python3.10/dist-packages (from dask-cuda==24.4.*->cuml-cu12==24.4.*) (3.0.0)\n",
            "Collecting dask==2024.1.1 (from rapids-dask-dependency==24.4.*->cuml-cu12==24.4.*)\n",
            "  Downloading dask-2024.1.1-py3-none-any.whl (1.2 MB)\n",
            "     ━━━━━━━━━━━━━━━━━━━━━━━━━━━━━━━━━━━━━━━━ 1.2/1.2 MB 78.9 MB/s eta 0:00:00\n",
            "Collecting distributed==2024.1.1 (from rapids-dask-dependency==24.4.*->cuml-cu12==24.4.*)\n",
            "  Downloading distributed-2024.1.1-py3-none-any.whl (1.0 MB)\n",
            "     ━━━━━━━━━━━━━━━━━━━━━━━━━━━━━━━━━━━━━━━━ 1.0/1.0 MB 76.3 MB/s eta 0:00:00\n",
            "Collecting dask-expr==0.4.0 (from rapids-dask-dependency==24.4.*->cuml-cu12==24.4.*)\n",
            "  Downloading dask_expr-0.4.0-py3-none-any.whl (161 kB)\n",
            "     ━━━━━━━━━━━━━━━━━━━━━━━━━━━━━━━━━━━━━━━━ 161.7/161.7 kB 20.1 MB/s eta 0:00:00\n",
            "Requirement already satisfied: cloudpickle>=1.5.0 in /usr/local/lib/python3.10/dist-packages (from dask==2024.1.1->rapids-dask-dependency==24.4.*->cuml-cu12==24.4.*) (2.2.1)\n",
            "Requirement already satisfied: partd>=1.2.0 in /usr/local/lib/python3.10/dist-packages (from dask==2024.1.1->rapids-dask-dependency==24.4.*->cuml-cu12==24.4.*) (1.4.2)\n",
            "Requirement already satisfied: pyyaml>=5.3.1 in /usr/local/lib/python3.10/dist-packages (from dask==2024.1.1->rapids-dask-dependency==24.4.*->cuml-cu12==24.4.*) (6.0.1)\n",
            "Requirement already satisfied: toolz>=0.10.0 in /usr/local/lib/python3.10/dist-packages (from dask==2024.1.1->rapids-dask-dependency==24.4.*->cuml-cu12==24.4.*) (0.12.1)\n",
            "Requirement already satisfied: importlib-metadata>=4.13.0 in /usr/local/lib/python3.10/dist-packages (from dask==2024.1.1->rapids-dask-dependency==24.4.*->cuml-cu12==24.4.*) (7.1.0)\n",
            "Requirement already satisfied: jinja2>=2.10.3 in /usr/local/lib/python3.10/dist-packages (from distributed==2024.1.1->rapids-dask-dependency==24.4.*->cuml-cu12==24.4.*) (3.1.4)\n",
            "Requirement already satisfied: locket>=1.0.0 in /usr/local/lib/python3.10/dist-packages (from distributed==2024.1.1->rapids-dask-dependency==24.4.*->cuml-cu12==24.4.*) (1.0.0)\n",
            "Requirement already satisfied: msgpack>=1.0.0 in /usr/local/lib/python3.10/dist-packages (from distributed==2024.1.1->rapids-dask-dependency==24.4.*->cuml-cu12==24.4.*) (1.0.8)\n",
            "Requirement already satisfied: psutil>=5.7.2 in /usr/local/lib/python3.10/dist-packages (from distributed==2024.1.1->rapids-dask-dependency==24.4.*->cuml-cu12==24.4.*) (5.9.5)\n",
            "Requirement already satisfied: sortedcontainers>=2.0.5 in /usr/local/lib/python3.10/dist-packages (from distributed==2024.1.1->rapids-dask-dependency==24.4.*->cuml-cu12==24.4.*) (2.4.0)\n",
            "Requirement already satisfied: tblib>=1.6.0 in /usr/local/lib/python3.10/dist-packages (from distributed==2024.1.1->rapids-dask-dependency==24.4.*->cuml-cu12==24.4.*) (3.0.0)\n",
            "Requirement already satisfied: tornado>=6.0.4 in /usr/local/lib/python3.10/dist-packages (from distributed==2024.1.1->rapids-dask-dependency==24.4.*->cuml-cu12==24.4.*) (6.3.3)\n",
            "Requirement already satisfied: urllib3>=1.24.3 in /usr/local/lib/python3.10/dist-packages (from distributed==2024.1.1->rapids-dask-dependency==24.4.*->cuml-cu12==24.4.*) (2.0.7)\n",
            "Requirement already satisfied: aiosignal>=1.1.2 in /usr/local/lib/python3.10/dist-packages (from aiohttp) (1.3.1)\n",
            "Requirement already satisfied: attrs>=17.3.0 in /usr/local/lib/python3.10/dist-packages (from aiohttp) (23.2.0)\n",
            "Requirement already satisfied: frozenlist>=1.1.1 in /usr/local/lib/python3.10/dist-packages (from aiohttp) (1.4.1)\n",
            "Requirement already satisfied: multidict<7.0,>=4.5 in /usr/local/lib/python3.10/dist-packages (from aiohttp) (6.0.5)\n",
            "Requirement already satisfied: yarl<2.0,>=1.0 in /usr/local/lib/python3.10/dist-packages (from aiohttp) (1.9.4)\n",
            "Requirement already satisfied: async-timeout<5.0,>=4.0 in /usr/local/lib/python3.10/dist-packages (from aiohttp) (4.0.3)\n",
            "Requirement already satisfied: contourpy>=1 in /usr/local/lib/python3.10/dist-packages (from bokeh>=3.1->cuxfilter-cu12==24.4.*) (1.2.1)\n",
            "Requirement already satisfied: pillow>=7.1.0 in /usr/local/lib/python3.10/dist-packages (from bokeh>=3.1->cuxfilter-cu12==24.4.*) (9.4.0)\n",
            "Requirement already satisfied: xyzservices>=2021.09.1 in /usr/local/lib/python3.10/dist-packages (from bokeh>=3.1->cuxfilter-cu12==24.4.*) (2024.4.0)\n",
            "Requirement already satisfied: cython in /usr/local/lib/python3.10/dist-packages (from cuda-python<13.0a0,>=12.0->pylibraft-cu12==24.4.*) (3.0.10)\n",
            "Requirement already satisfied: fastrlock>=0.5 in /usr/local/lib/python3.10/dist-packages (from cupy-cuda12x>=12.0.0->cuml-cu12==24.4.*) (0.8.2)\n",
            "Requirement already satisfied: colorcet in /usr/local/lib/python3.10/dist-packages (from datashader>=0.15->cuxfilter-cu12==24.4.*) (3.1.0)\n",
            "Requirement already satisfied: multipledispatch in /usr/local/lib/python3.10/dist-packages (from datashader>=0.15->cuxfilter-cu12==24.4.*) (1.0.0)\n",
            "Requirement already satisfied: param in /usr/local/lib/python3.10/dist-packages (from datashader>=0.15->cuxfilter-cu12==24.4.*) (2.1.0)\n",
            "Collecting pyct (from datashader>=0.15->cuxfilter-cu12==24.4.*)\n",
            "  Downloading pyct-0.5.0-py2.py3-none-any.whl (15 kB)\n",
            "Requirement already satisfied: requests in /usr/local/lib/python3.10/dist-packages (from datashader>=0.15->cuxfilter-cu12==24.4.*) (2.31.0)\n",
            "Requirement already satisfied: xarray in /usr/local/lib/python3.10/dist-packages (from datashader>=0.15->cuxfilter-cu12==24.4.*) (2023.7.0)\n",
            "Requirement already satisfied: fiona>=1.8.19 in /usr/local/lib/python3.10/dist-packages (from geopandas>=0.11.0->cuspatial-cu12==24.4.*) (1.9.6)\n",
            "Requirement already satisfied: pyproj>=3.0.1 in /usr/local/lib/python3.10/dist-packages (from geopandas>=0.11.0->cuspatial-cu12==24.4.*) (3.6.1)\n",
            "Requirement already satisfied: shapely>=1.7.1 in /usr/local/lib/python3.10/dist-packages (from geopandas>=0.11.0->cuspatial-cu12==24.4.*) (2.0.4)\n",
            "Requirement already satisfied: pyviz-comms>=0.7.4 in /usr/local/lib/python3.10/dist-packages (from holoviews>=1.16.0->cuxfilter-cu12==24.4.*) (3.0.2)\n",
            "Requirement already satisfied: llvmlite<0.42,>=0.41.0dev0 in /usr/local/lib/python3.10/dist-packages (from numba>=0.57->cuml-cu12==24.4.*) (0.41.1)\n",
            "Requirement already satisfied: markdown in /usr/local/lib/python3.10/dist-packages (from panel>=1.0->cuxfilter-cu12==24.4.*) (3.6)\n",
            "Requirement already satisfied: markdown-it-py in /usr/local/lib/python3.10/dist-packages (from panel>=1.0->cuxfilter-cu12==24.4.*) (3.0.0)\n",
            "Requirement already satisfied: linkify-it-py in /usr/local/lib/python3.10/dist-packages (from panel>=1.0->cuxfilter-cu12==24.4.*) (2.0.3)\n",
            "Requirement already satisfied: mdit-py-plugins in /usr/local/lib/python3.10/dist-packages (from panel>=1.0->cuxfilter-cu12==24.4.*) (0.4.1)\n",
            "Requirement already satisfied: tqdm>=4.48.0 in /usr/local/lib/python3.10/dist-packages (from panel>=1.0->cuxfilter-cu12==24.4.*) (4.66.4)\n",
            "Requirement already satisfied: bleach in /usr/local/lib/python3.10/dist-packages (from panel>=1.0->cuxfilter-cu12==24.4.*) (6.1.0)\n",
            "Requirement already satisfied: networkx>=2.2 in /usr/local/lib/python3.10/dist-packages (from scikit-image<0.23.0a0,>=0.19.0->cucim-cu12==24.4.*) (3.3)\n",
            "Requirement already satisfied: imageio>=2.4.1 in /usr/local/lib/python3.10/dist-packages (from scikit-image<0.23.0a0,>=0.19.0->cucim-cu12==24.4.*) (2.31.6)\n",
            "Requirement already satisfied: tifffile>=2019.7.26 in /usr/local/lib/python3.10/dist-packages (from scikit-image<0.23.0a0,>=0.19.0->cucim-cu12==24.4.*) (2024.5.10)\n",
            "Requirement already satisfied: PyWavelets>=1.1.1 in /usr/local/lib/python3.10/dist-packages (from scikit-image<0.23.0a0,>=0.19.0->cucim-cu12==24.4.*) (1.6.0)\n",
            "Requirement already satisfied: idna>=2.0 in /usr/local/lib/python3.10/dist-packages (from yarl<2.0,>=1.0->aiohttp) (3.7)\n",
            "Requirement already satisfied: jupyter-server>=1.0 in /usr/local/lib/python3.10/dist-packages (from jupyter-server-proxy->cuxfilter-cu12==24.4.*) (1.24.0)\n",
            "Collecting simpervisor>=1.0 (from jupyter-server-proxy->cuxfilter-cu12==24.4.*)\n",
            "  Downloading simpervisor-1.0.0-py3-none-any.whl (8.3 kB)\n",
            "Requirement already satisfied: traitlets>=4.2.1 in /usr/local/lib/python3.10/dist-packages (from jupyter-server-proxy->cuxfilter-cu12==24.4.*) (5.7.1)\n",
            "Requirement already satisfied: certifi in /usr/local/lib/python3.10/dist-packages (from fiona>=1.8.19->geopandas>=0.11.0->cuspatial-cu12==24.4.*) (2024.2.2)\n",
            "Requirement already satisfied: click-plugins>=1.0 in /usr/local/lib/python3.10/dist-packages (from fiona>=1.8.19->geopandas>=0.11.0->cuspatial-cu12==24.4.*) (1.1.1)\n",
            "Requirement already satisfied: cligj>=0.5 in /usr/local/lib/python3.10/dist-packages (from fiona>=1.8.19->geopandas>=0.11.0->cuspatial-cu12==24.4.*) (0.7.2)\n",
            "Requirement already satisfied: six in /usr/local/lib/python3.10/dist-packages (from fiona>=1.8.19->geopandas>=0.11.0->cuspatial-cu12==24.4.*) (1.16.0)\n",
            "Requirement already satisfied: MarkupSafe>=2.0 in /usr/local/lib/python3.10/dist-packages (from jinja2>=2.10.3->distributed==2024.1.1->rapids-dask-dependency==24.4.*->cuml-cu12==24.4.*) (2.1.5)\n",
            "Requirement already satisfied: anyio<4,>=3.1.0 in /usr/local/lib/python3.10/dist-packages (from jupyter-server>=1.0->jupyter-server-proxy->cuxfilter-cu12==24.4.*) (3.7.1)\n",
            "Requirement already satisfied: argon2-cffi in /usr/local/lib/python3.10/dist-packages (from jupyter-server>=1.0->jupyter-server-proxy->cuxfilter-cu12==24.4.*) (23.1.0)\n",
            "Requirement already satisfied: jupyter-client>=6.1.12 in /usr/local/lib/python3.10/dist-packages (from jupyter-server>=1.0->jupyter-server-proxy->cuxfilter-cu12==24.4.*) (6.1.12)\n",
            "Requirement already satisfied: jupyter-core!=5.0.*,>=4.12 in /usr/local/lib/python3.10/dist-packages (from jupyter-server>=1.0->jupyter-server-proxy->cuxfilter-cu12==24.4.*) (5.7.2)\n",
            "Requirement already satisfied: nbconvert>=6.4.4 in /usr/local/lib/python3.10/dist-packages (from jupyter-server>=1.0->jupyter-server-proxy->cuxfilter-cu12==24.4.*) (6.5.4)\n",
            "Requirement already satisfied: nbformat>=5.2.0 in /usr/local/lib/python3.10/dist-packages (from jupyter-server>=1.0->jupyter-server-proxy->cuxfilter-cu12==24.4.*) (5.10.4)\n",
            "Requirement already satisfied: prometheus-client in /usr/local/lib/python3.10/dist-packages (from jupyter-server>=1.0->jupyter-server-proxy->cuxfilter-cu12==24.4.*) (0.20.0)\n",
            "Requirement already satisfied: pyzmq>=17 in /usr/local/lib/python3.10/dist-packages (from jupyter-server>=1.0->jupyter-server-proxy->cuxfilter-cu12==24.4.*) (24.0.1)\n",
            "Requirement already satisfied: Send2Trash in /usr/local/lib/python3.10/dist-packages (from jupyter-server>=1.0->jupyter-server-proxy->cuxfilter-cu12==24.4.*) (1.8.3)\n",
            "Requirement already satisfied: terminado>=0.8.3 in /usr/local/lib/python3.10/dist-packages (from jupyter-server>=1.0->jupyter-server-proxy->cuxfilter-cu12==24.4.*) (0.18.1)\n",
            "Requirement already satisfied: websocket-client in /usr/local/lib/python3.10/dist-packages (from jupyter-server>=1.0->jupyter-server-proxy->cuxfilter-cu12==24.4.*) (1.8.0)\n",
            "Requirement already satisfied: python-dateutil>=2.8.2 in /usr/local/lib/python3.10/dist-packages (from pandas<2.2.2dev0,>=2.0->cudf-cu12==24.4.*->cuml-cu12==24.4.*) (2.8.2)\n",
            "Requirement already satisfied: pytz>=2020.1 in /usr/local/lib/python3.10/dist-packages (from pandas<2.2.2dev0,>=2.0->cudf-cu12==24.4.*->cuml-cu12==24.4.*) (2023.4)\n",
            "Requirement already satisfied: tzdata>=2022.1 in /usr/local/lib/python3.10/dist-packages (from pandas<2.2.2dev0,>=2.0->cudf-cu12==24.4.*->cuml-cu12==24.4.*) (2024.1)\n",
            "Requirement already satisfied: webencodings in /usr/local/lib/python3.10/dist-packages (from bleach->panel>=1.0->cuxfilter-cu12==24.4.*) (0.5.1)\n",
            "Requirement already satisfied: uc-micro-py in /usr/local/lib/python3.10/dist-packages (from linkify-it-py->panel>=1.0->cuxfilter-cu12==24.4.*) (1.0.3)\n",
            "Requirement already satisfied: mdurl~=0.1 in /usr/local/lib/python3.10/dist-packages (from markdown-it-py->panel>=1.0->cuxfilter-cu12==24.4.*) (0.1.2)\n",
            "Requirement already satisfied: charset-normalizer<4,>=2 in /usr/local/lib/python3.10/dist-packages (from requests->datashader>=0.15->cuxfilter-cu12==24.4.*) (3.3.2)\n",
            "Requirement already satisfied: pygments<3.0.0,>=2.13.0 in /usr/local/lib/python3.10/dist-packages (from rich->cudf-cu12==24.4.*->cuml-cu12==24.4.*) (2.16.1)\n",
            "Requirement already satisfied: sniffio>=1.1 in /usr/local/lib/python3.10/dist-packages (from anyio<4,>=3.1.0->jupyter-server>=1.0->jupyter-server-proxy->cuxfilter-cu12==24.4.*) (1.3.1)\n",
            "Requirement already satisfied: exceptiongroup in /usr/local/lib/python3.10/dist-packages (from anyio<4,>=3.1.0->jupyter-server>=1.0->jupyter-server-proxy->cuxfilter-cu12==24.4.*) (1.2.1)\n",
            "Requirement already satisfied: zipp>=0.5 in /usr/local/lib/python3.10/dist-packages (from importlib-metadata>=4.13.0->dask==2024.1.1->rapids-dask-dependency==24.4.*->cuml-cu12==24.4.*) (3.18.2)\n",
            "Requirement already satisfied: platformdirs>=2.5 in /usr/local/lib/python3.10/dist-packages (from jupyter-core!=5.0.*,>=4.12->jupyter-server>=1.0->jupyter-server-proxy->cuxfilter-cu12==24.4.*) (4.2.2)\n",
            "Requirement already satisfied: lxml in /usr/local/lib/python3.10/dist-packages (from nbconvert>=6.4.4->jupyter-server>=1.0->jupyter-server-proxy->cuxfilter-cu12==24.4.*) (4.9.4)\n",
            "Requirement already satisfied: beautifulsoup4 in /usr/local/lib/python3.10/dist-packages (from nbconvert>=6.4.4->jupyter-server>=1.0->jupyter-server-proxy->cuxfilter-cu12==24.4.*) (4.12.3)\n",
            "Requirement already satisfied: defusedxml in /usr/local/lib/python3.10/dist-packages (from nbconvert>=6.4.4->jupyter-server>=1.0->jupyter-server-proxy->cuxfilter-cu12==24.4.*) (0.7.1)\n",
            "Requirement already satisfied: entrypoints>=0.2.2 in /usr/local/lib/python3.10/dist-packages (from nbconvert>=6.4.4->jupyter-server>=1.0->jupyter-server-proxy->cuxfilter-cu12==24.4.*) (0.4)\n",
            "Requirement already satisfied: jupyterlab-pygments in /usr/local/lib/python3.10/dist-packages (from nbconvert>=6.4.4->jupyter-server>=1.0->jupyter-server-proxy->cuxfilter-cu12==24.4.*) (0.3.0)\n",
            "Requirement already satisfied: mistune<2,>=0.8.1 in /usr/local/lib/python3.10/dist-packages (from nbconvert>=6.4.4->jupyter-server>=1.0->jupyter-server-proxy->cuxfilter-cu12==24.4.*) (0.8.4)\n",
            "Requirement already satisfied: nbclient>=0.5.0 in /usr/local/lib/python3.10/dist-packages (from nbconvert>=6.4.4->jupyter-server>=1.0->jupyter-server-proxy->cuxfilter-cu12==24.4.*) (0.10.0)\n",
            "Requirement already satisfied: pandocfilters>=1.4.1 in /usr/local/lib/python3.10/dist-packages (from nbconvert>=6.4.4->jupyter-server>=1.0->jupyter-server-proxy->cuxfilter-cu12==24.4.*) (1.5.1)\n",
            "Requirement already satisfied: tinycss2 in /usr/local/lib/python3.10/dist-packages (from nbconvert>=6.4.4->jupyter-server>=1.0->jupyter-server-proxy->cuxfilter-cu12==24.4.*) (1.3.0)\n",
            "Requirement already satisfied: fastjsonschema>=2.15 in /usr/local/lib/python3.10/dist-packages (from nbformat>=5.2.0->jupyter-server>=1.0->jupyter-server-proxy->cuxfilter-cu12==24.4.*) (2.19.1)\n",
            "Requirement already satisfied: jsonschema>=2.6 in /usr/local/lib/python3.10/dist-packages (from nbformat>=5.2.0->jupyter-server>=1.0->jupyter-server-proxy->cuxfilter-cu12==24.4.*) (4.19.2)\n",
            "Requirement already satisfied: ptyprocess in /usr/local/lib/python3.10/dist-packages (from terminado>=0.8.3->jupyter-server>=1.0->jupyter-server-proxy->cuxfilter-cu12==24.4.*) (0.7.0)\n",
            "Requirement already satisfied: argon2-cffi-bindings in /usr/local/lib/python3.10/dist-packages (from argon2-cffi->jupyter-server>=1.0->jupyter-server-proxy->cuxfilter-cu12==24.4.*) (21.2.0)\n",
            "Requirement already satisfied: jsonschema-specifications>=2023.03.6 in /usr/local/lib/python3.10/dist-packages (from jsonschema>=2.6->nbformat>=5.2.0->jupyter-server>=1.0->jupyter-server-proxy->cuxfilter-cu12==24.4.*) (2023.12.1)\n",
            "Requirement already satisfied: referencing>=0.28.4 in /usr/local/lib/python3.10/dist-packages (from jsonschema>=2.6->nbformat>=5.2.0->jupyter-server>=1.0->jupyter-server-proxy->cuxfilter-cu12==24.4.*) (0.35.1)\n",
            "Requirement already satisfied: rpds-py>=0.7.1 in /usr/local/lib/python3.10/dist-packages (from jsonschema>=2.6->nbformat>=5.2.0->jupyter-server>=1.0->jupyter-server-proxy->cuxfilter-cu12==24.4.*) (0.18.1)\n",
            "Requirement already satisfied: cffi>=1.0.1 in /usr/local/lib/python3.10/dist-packages (from argon2-cffi-bindings->argon2-cffi->jupyter-server>=1.0->jupyter-server-proxy->cuxfilter-cu12==24.4.*) (1.16.0)\n",
            "Requirement already satisfied: soupsieve>1.2 in /usr/local/lib/python3.10/dist-packages (from beautifulsoup4->nbconvert>=6.4.4->jupyter-server>=1.0->jupyter-server-proxy->cuxfilter-cu12==24.4.*) (2.5)\n",
            "Requirement already satisfied: pycparser in /usr/local/lib/python3.10/dist-packages (from cffi>=1.0.1->argon2-cffi-bindings->argon2-cffi->jupyter-server>=1.0->jupyter-server-proxy->cuxfilter-cu12==24.4.*) (2.22)\n",
            "Installing collected packages: simpervisor, pynvml, pyct, ucx-py-cu12, treelite, dask, pylibraft-cu12, distributed, dask-expr, cuproj-cu12, cucim-cu12, rapids-dask-dependency, pylibcugraph-cu12, datashader, cuspatial-cu12, dask-cudf-cu12, dask-cuda, raft-dask-cu12, cuml-cu12, cugraph-cu12, jupyter-server-proxy, cuxfilter-cu12\n",
            "  Attempting uninstall: pynvml\n",
            "    Found existing installation: pynvml 11.5.0\n",
            "    Uninstalling pynvml-11.5.0:\n",
            "      Successfully uninstalled pynvml-11.5.0\n",
            "  Attempting uninstall: dask\n",
            "    Found existing installation: dask 2023.8.1\n",
            "    Uninstalling dask-2023.8.1:\n",
            "      Successfully uninstalled dask-2023.8.1\n",
            "  Attempting uninstall: distributed\n",
            "    Found existing installation: distributed 2023.8.1\n",
            "    Uninstalling distributed-2023.8.1:\n",
            "      Successfully uninstalled distributed-2023.8.1\n",
            "Successfully installed cucim-cu12-24.4.0 cugraph-cu12-24.4.0 cuml-cu12-24.4.0 cuproj-cu12-24.4.0 cuspatial-cu12-24.4.0 cuxfilter-cu12-24.4.1 dask-2024.1.1 dask-cuda-24.4.0 dask-cudf-cu12-24.4.1 dask-expr-0.4.0 datashader-0.16.1 distributed-2024.1.1 jupyter-server-proxy-4.1.2 pyct-0.5.0 pylibcugraph-cu12-24.4.0 pylibraft-cu12-24.4.0 pynvml-11.4.1 raft-dask-cu12-24.4.0 rapids-dask-dependency-24.4.1 simpervisor-1.0.0 treelite-4.1.2 ucx-py-cu12-0.37.0\n",
            "\n",
            "        ***********************************************************************\n",
            "        The pip install of RAPIDS is complete.\n",
            "        \n",
            "        Please do not run any further installation from the conda based installation methods, as they may cause issues!\n",
            "        \n",
            "        Please ensure that you're pulling from the git repo to remain updated with the latest working install scripts.\n",
            "\n",
            "        Troubleshooting:\n",
            "            - If there is an installation failure, please check back on RAPIDSAI owned templates/notebooks to see how to update your personal files. \n",
            "            - If an installation failure persists when using the latest script, please make an issue on https://github.com/rapidsai-community/rapidsai-csp-utils\n",
            "        ***********************************************************************\n",
            "        \n"
          ]
        }
      ],
      "source": [
        "!git clone https://github.com/rapidsai/rapidsai-csp-utils.git\n",
        "!python rapidsai-csp-utils/colab/pip-install.py"
      ]
    },
    {
      "cell_type": "markdown",
      "metadata": {
        "id": "WmALbOuppUgQ"
      },
      "source": [
        "Make the import for the cuML library from RAPIDS."
      ]
    },
    {
      "cell_type": "code",
      "execution_count": 4,
      "metadata": {
        "id": "_gJnD4FMeYXI"
      },
      "outputs": [],
      "source": [
        "import cuml\n",
        "from cuml.ensemble import RandomForestRegressor"
      ]
    },
    {
      "cell_type": "markdown",
      "metadata": {
        "id": "e1dwnJLYpeZU"
      },
      "source": [
        "### Data exploration"
      ]
    },
    {
      "cell_type": "markdown",
      "metadata": {
        "id": "2dnCSUptphlx"
      },
      "source": [
        "Load the datasets"
      ]
    },
    {
      "cell_type": "code",
      "execution_count": 5,
      "metadata": {
        "id": "J_uweY1APeuL"
      },
      "outputs": [],
      "source": [
        "train_df = pd.read_csv('/train.csv')\n",
        "test_df = pd.read_csv('/test.csv')"
      ]
    },
    {
      "cell_type": "markdown",
      "metadata": {
        "id": "J-G2kdpyqAAF"
      },
      "source": [
        "Let's look at the data"
      ]
    },
    {
      "cell_type": "code",
      "execution_count": 6,
      "metadata": {
        "colab": {
          "base_uri": "https://localhost:8080/",
          "height": 206
        },
        "id": "KDrVIRs1PzXK",
        "outputId": "58f28690-2c11-4b46-9465-52960cd23219"
      },
      "outputs": [
        {
          "data": {
            "application/vnd.google.colaboratory.intrinsic+json": {
              "type": "dataframe",
              "variable_name": "train_df"
            },
            "text/html": [
              "\n",
              "  <div id=\"df-1e12e91c-0c13-41bd-b826-98fdd0c9d4cc\" class=\"colab-df-container\">\n",
              "    <div>\n",
              "<style scoped>\n",
              "    .dataframe tbody tr th:only-of-type {\n",
              "        vertical-align: middle;\n",
              "    }\n",
              "\n",
              "    .dataframe tbody tr th {\n",
              "        vertical-align: top;\n",
              "    }\n",
              "\n",
              "    .dataframe thead th {\n",
              "        text-align: right;\n",
              "    }\n",
              "</style>\n",
              "<table border=\"1\" class=\"dataframe\">\n",
              "  <thead>\n",
              "    <tr style=\"text-align: right;\">\n",
              "      <th></th>\n",
              "      <th>user_id</th>\n",
              "      <th>product_id</th>\n",
              "      <th>product_name</th>\n",
              "      <th>rating</th>\n",
              "      <th>votes</th>\n",
              "      <th>helpful_votes</th>\n",
              "      <th>ID</th>\n",
              "    </tr>\n",
              "  </thead>\n",
              "  <tbody>\n",
              "    <tr>\n",
              "      <th>0</th>\n",
              "      <td>1813</td>\n",
              "      <td>154533</td>\n",
              "      <td>Beautiful Thing</td>\n",
              "      <td>5</td>\n",
              "      <td>10</td>\n",
              "      <td>8</td>\n",
              "      <td>0</td>\n",
              "    </tr>\n",
              "    <tr>\n",
              "      <th>1</th>\n",
              "      <td>1944</td>\n",
              "      <td>192838</td>\n",
              "      <td>Almost Famous</td>\n",
              "      <td>5</td>\n",
              "      <td>4</td>\n",
              "      <td>2</td>\n",
              "      <td>1</td>\n",
              "    </tr>\n",
              "    <tr>\n",
              "      <th>2</th>\n",
              "      <td>534</td>\n",
              "      <td>202590</td>\n",
              "      <td>A Clockwork Orange</td>\n",
              "      <td>5</td>\n",
              "      <td>5</td>\n",
              "      <td>5</td>\n",
              "      <td>2</td>\n",
              "    </tr>\n",
              "    <tr>\n",
              "      <th>3</th>\n",
              "      <td>1811</td>\n",
              "      <td>140456</td>\n",
              "      <td>Great Expectations (Wordsworth Classics)</td>\n",
              "      <td>4</td>\n",
              "      <td>1</td>\n",
              "      <td>0</td>\n",
              "      <td>3</td>\n",
              "    </tr>\n",
              "    <tr>\n",
              "      <th>4</th>\n",
              "      <td>102</td>\n",
              "      <td>154278</td>\n",
              "      <td>Phenomenon</td>\n",
              "      <td>5</td>\n",
              "      <td>0</td>\n",
              "      <td>0</td>\n",
              "      <td>4</td>\n",
              "    </tr>\n",
              "  </tbody>\n",
              "</table>\n",
              "</div>\n",
              "    <div class=\"colab-df-buttons\">\n",
              "\n",
              "  <div class=\"colab-df-container\">\n",
              "    <button class=\"colab-df-convert\" onclick=\"convertToInteractive('df-1e12e91c-0c13-41bd-b826-98fdd0c9d4cc')\"\n",
              "            title=\"Convert this dataframe to an interactive table.\"\n",
              "            style=\"display:none;\">\n",
              "\n",
              "  <svg xmlns=\"http://www.w3.org/2000/svg\" height=\"24px\" viewBox=\"0 -960 960 960\">\n",
              "    <path d=\"M120-120v-720h720v720H120Zm60-500h600v-160H180v160Zm220 220h160v-160H400v160Zm0 220h160v-160H400v160ZM180-400h160v-160H180v160Zm440 0h160v-160H620v160ZM180-180h160v-160H180v160Zm440 0h160v-160H620v160Z\"/>\n",
              "  </svg>\n",
              "    </button>\n",
              "\n",
              "  <style>\n",
              "    .colab-df-container {\n",
              "      display:flex;\n",
              "      gap: 12px;\n",
              "    }\n",
              "\n",
              "    .colab-df-convert {\n",
              "      background-color: #E8F0FE;\n",
              "      border: none;\n",
              "      border-radius: 50%;\n",
              "      cursor: pointer;\n",
              "      display: none;\n",
              "      fill: #1967D2;\n",
              "      height: 32px;\n",
              "      padding: 0 0 0 0;\n",
              "      width: 32px;\n",
              "    }\n",
              "\n",
              "    .colab-df-convert:hover {\n",
              "      background-color: #E2EBFA;\n",
              "      box-shadow: 0px 1px 2px rgba(60, 64, 67, 0.3), 0px 1px 3px 1px rgba(60, 64, 67, 0.15);\n",
              "      fill: #174EA6;\n",
              "    }\n",
              "\n",
              "    .colab-df-buttons div {\n",
              "      margin-bottom: 4px;\n",
              "    }\n",
              "\n",
              "    [theme=dark] .colab-df-convert {\n",
              "      background-color: #3B4455;\n",
              "      fill: #D2E3FC;\n",
              "    }\n",
              "\n",
              "    [theme=dark] .colab-df-convert:hover {\n",
              "      background-color: #434B5C;\n",
              "      box-shadow: 0px 1px 3px 1px rgba(0, 0, 0, 0.15);\n",
              "      filter: drop-shadow(0px 1px 2px rgba(0, 0, 0, 0.3));\n",
              "      fill: #FFFFFF;\n",
              "    }\n",
              "  </style>\n",
              "\n",
              "    <script>\n",
              "      const buttonEl =\n",
              "        document.querySelector('#df-1e12e91c-0c13-41bd-b826-98fdd0c9d4cc button.colab-df-convert');\n",
              "      buttonEl.style.display =\n",
              "        google.colab.kernel.accessAllowed ? 'block' : 'none';\n",
              "\n",
              "      async function convertToInteractive(key) {\n",
              "        const element = document.querySelector('#df-1e12e91c-0c13-41bd-b826-98fdd0c9d4cc');\n",
              "        const dataTable =\n",
              "          await google.colab.kernel.invokeFunction('convertToInteractive',\n",
              "                                                    [key], {});\n",
              "        if (!dataTable) return;\n",
              "\n",
              "        const docLinkHtml = 'Like what you see? Visit the ' +\n",
              "          '<a target=\"_blank\" href=https://colab.research.google.com/notebooks/data_table.ipynb>data table notebook</a>'\n",
              "          + ' to learn more about interactive tables.';\n",
              "        element.innerHTML = '';\n",
              "        dataTable['output_type'] = 'display_data';\n",
              "        await google.colab.output.renderOutput(dataTable, element);\n",
              "        const docLink = document.createElement('div');\n",
              "        docLink.innerHTML = docLinkHtml;\n",
              "        element.appendChild(docLink);\n",
              "      }\n",
              "    </script>\n",
              "  </div>\n",
              "\n",
              "\n",
              "<div id=\"df-9f6da4ca-1e7c-41d0-816d-b3cd942e1c36\">\n",
              "  <button class=\"colab-df-quickchart\" onclick=\"quickchart('df-9f6da4ca-1e7c-41d0-816d-b3cd942e1c36')\"\n",
              "            title=\"Suggest charts\"\n",
              "            style=\"display:none;\">\n",
              "\n",
              "<svg xmlns=\"http://www.w3.org/2000/svg\" height=\"24px\"viewBox=\"0 0 24 24\"\n",
              "     width=\"24px\">\n",
              "    <g>\n",
              "        <path d=\"M19 3H5c-1.1 0-2 .9-2 2v14c0 1.1.9 2 2 2h14c1.1 0 2-.9 2-2V5c0-1.1-.9-2-2-2zM9 17H7v-7h2v7zm4 0h-2V7h2v10zm4 0h-2v-4h2v4z\"/>\n",
              "    </g>\n",
              "</svg>\n",
              "  </button>\n",
              "\n",
              "<style>\n",
              "  .colab-df-quickchart {\n",
              "      --bg-color: #E8F0FE;\n",
              "      --fill-color: #1967D2;\n",
              "      --hover-bg-color: #E2EBFA;\n",
              "      --hover-fill-color: #174EA6;\n",
              "      --disabled-fill-color: #AAA;\n",
              "      --disabled-bg-color: #DDD;\n",
              "  }\n",
              "\n",
              "  [theme=dark] .colab-df-quickchart {\n",
              "      --bg-color: #3B4455;\n",
              "      --fill-color: #D2E3FC;\n",
              "      --hover-bg-color: #434B5C;\n",
              "      --hover-fill-color: #FFFFFF;\n",
              "      --disabled-bg-color: #3B4455;\n",
              "      --disabled-fill-color: #666;\n",
              "  }\n",
              "\n",
              "  .colab-df-quickchart {\n",
              "    background-color: var(--bg-color);\n",
              "    border: none;\n",
              "    border-radius: 50%;\n",
              "    cursor: pointer;\n",
              "    display: none;\n",
              "    fill: var(--fill-color);\n",
              "    height: 32px;\n",
              "    padding: 0;\n",
              "    width: 32px;\n",
              "  }\n",
              "\n",
              "  .colab-df-quickchart:hover {\n",
              "    background-color: var(--hover-bg-color);\n",
              "    box-shadow: 0 1px 2px rgba(60, 64, 67, 0.3), 0 1px 3px 1px rgba(60, 64, 67, 0.15);\n",
              "    fill: var(--button-hover-fill-color);\n",
              "  }\n",
              "\n",
              "  .colab-df-quickchart-complete:disabled,\n",
              "  .colab-df-quickchart-complete:disabled:hover {\n",
              "    background-color: var(--disabled-bg-color);\n",
              "    fill: var(--disabled-fill-color);\n",
              "    box-shadow: none;\n",
              "  }\n",
              "\n",
              "  .colab-df-spinner {\n",
              "    border: 2px solid var(--fill-color);\n",
              "    border-color: transparent;\n",
              "    border-bottom-color: var(--fill-color);\n",
              "    animation:\n",
              "      spin 1s steps(1) infinite;\n",
              "  }\n",
              "\n",
              "  @keyframes spin {\n",
              "    0% {\n",
              "      border-color: transparent;\n",
              "      border-bottom-color: var(--fill-color);\n",
              "      border-left-color: var(--fill-color);\n",
              "    }\n",
              "    20% {\n",
              "      border-color: transparent;\n",
              "      border-left-color: var(--fill-color);\n",
              "      border-top-color: var(--fill-color);\n",
              "    }\n",
              "    30% {\n",
              "      border-color: transparent;\n",
              "      border-left-color: var(--fill-color);\n",
              "      border-top-color: var(--fill-color);\n",
              "      border-right-color: var(--fill-color);\n",
              "    }\n",
              "    40% {\n",
              "      border-color: transparent;\n",
              "      border-right-color: var(--fill-color);\n",
              "      border-top-color: var(--fill-color);\n",
              "    }\n",
              "    60% {\n",
              "      border-color: transparent;\n",
              "      border-right-color: var(--fill-color);\n",
              "    }\n",
              "    80% {\n",
              "      border-color: transparent;\n",
              "      border-right-color: var(--fill-color);\n",
              "      border-bottom-color: var(--fill-color);\n",
              "    }\n",
              "    90% {\n",
              "      border-color: transparent;\n",
              "      border-bottom-color: var(--fill-color);\n",
              "    }\n",
              "  }\n",
              "</style>\n",
              "\n",
              "  <script>\n",
              "    async function quickchart(key) {\n",
              "      const quickchartButtonEl =\n",
              "        document.querySelector('#' + key + ' button');\n",
              "      quickchartButtonEl.disabled = true;  // To prevent multiple clicks.\n",
              "      quickchartButtonEl.classList.add('colab-df-spinner');\n",
              "      try {\n",
              "        const charts = await google.colab.kernel.invokeFunction(\n",
              "            'suggestCharts', [key], {});\n",
              "      } catch (error) {\n",
              "        console.error('Error during call to suggestCharts:', error);\n",
              "      }\n",
              "      quickchartButtonEl.classList.remove('colab-df-spinner');\n",
              "      quickchartButtonEl.classList.add('colab-df-quickchart-complete');\n",
              "    }\n",
              "    (() => {\n",
              "      let quickchartButtonEl =\n",
              "        document.querySelector('#df-9f6da4ca-1e7c-41d0-816d-b3cd942e1c36 button');\n",
              "      quickchartButtonEl.style.display =\n",
              "        google.colab.kernel.accessAllowed ? 'block' : 'none';\n",
              "    })();\n",
              "  </script>\n",
              "</div>\n",
              "\n",
              "    </div>\n",
              "  </div>\n"
            ],
            "text/plain": [
              "   user_id  product_id                              product_name  rating  \\\n",
              "0     1813      154533                           Beautiful Thing       5   \n",
              "1     1944      192838                             Almost Famous       5   \n",
              "2      534      202590                        A Clockwork Orange       5   \n",
              "3     1811      140456  Great Expectations (Wordsworth Classics)       4   \n",
              "4      102      154278                                Phenomenon       5   \n",
              "\n",
              "   votes  helpful_votes  ID  \n",
              "0     10              8   0  \n",
              "1      4              2   1  \n",
              "2      5              5   2  \n",
              "3      1              0   3  \n",
              "4      0              0   4  "
            ]
          },
          "execution_count": 6,
          "metadata": {},
          "output_type": "execute_result"
        }
      ],
      "source": [
        "train_df.head()"
      ]
    },
    {
      "cell_type": "code",
      "execution_count": 7,
      "metadata": {
        "colab": {
          "base_uri": "https://localhost:8080/",
          "height": 206
        },
        "id": "iT5RCOR0P6Rl",
        "outputId": "c775753a-55ef-4c03-ce97-404da697ce24"
      },
      "outputs": [
        {
          "data": {
            "application/vnd.google.colaboratory.intrinsic+json": {
              "type": "dataframe",
              "variable_name": "test_df"
            },
            "text/html": [
              "\n",
              "  <div id=\"df-4fc1ef53-6782-46a8-b90a-30eb2b8cc1fe\" class=\"colab-df-container\">\n",
              "    <div>\n",
              "<style scoped>\n",
              "    .dataframe tbody tr th:only-of-type {\n",
              "        vertical-align: middle;\n",
              "    }\n",
              "\n",
              "    .dataframe tbody tr th {\n",
              "        vertical-align: top;\n",
              "    }\n",
              "\n",
              "    .dataframe thead th {\n",
              "        text-align: right;\n",
              "    }\n",
              "</style>\n",
              "<table border=\"1\" class=\"dataframe\">\n",
              "  <thead>\n",
              "    <tr style=\"text-align: right;\">\n",
              "      <th></th>\n",
              "      <th>ID</th>\n",
              "      <th>user_id</th>\n",
              "      <th>product_id</th>\n",
              "      <th>product_name</th>\n",
              "    </tr>\n",
              "  </thead>\n",
              "  <tbody>\n",
              "    <tr>\n",
              "      <th>0</th>\n",
              "      <td>0</td>\n",
              "      <td>1916</td>\n",
              "      <td>185507</td>\n",
              "      <td>Maria [Australia]</td>\n",
              "    </tr>\n",
              "    <tr>\n",
              "      <th>1</th>\n",
              "      <td>1</td>\n",
              "      <td>1759</td>\n",
              "      <td>143430</td>\n",
              "      <td>The Mitchells: Five for Victory (Van Stockum, ...</td>\n",
              "    </tr>\n",
              "    <tr>\n",
              "      <th>2</th>\n",
              "      <td>2</td>\n",
              "      <td>1980</td>\n",
              "      <td>155861</td>\n",
              "      <td>Superman Cartoons of Max &amp; Dav</td>\n",
              "    </tr>\n",
              "    <tr>\n",
              "      <th>3</th>\n",
              "      <td>3</td>\n",
              "      <td>1502</td>\n",
              "      <td>71535</td>\n",
              "      <td>The Rainbow Fish Anniversary Edition</td>\n",
              "    </tr>\n",
              "    <tr>\n",
              "      <th>4</th>\n",
              "      <td>4</td>\n",
              "      <td>1255</td>\n",
              "      <td>13521</td>\n",
              "      <td>Confessions (Oxford World's Classics)</td>\n",
              "    </tr>\n",
              "  </tbody>\n",
              "</table>\n",
              "</div>\n",
              "    <div class=\"colab-df-buttons\">\n",
              "\n",
              "  <div class=\"colab-df-container\">\n",
              "    <button class=\"colab-df-convert\" onclick=\"convertToInteractive('df-4fc1ef53-6782-46a8-b90a-30eb2b8cc1fe')\"\n",
              "            title=\"Convert this dataframe to an interactive table.\"\n",
              "            style=\"display:none;\">\n",
              "\n",
              "  <svg xmlns=\"http://www.w3.org/2000/svg\" height=\"24px\" viewBox=\"0 -960 960 960\">\n",
              "    <path d=\"M120-120v-720h720v720H120Zm60-500h600v-160H180v160Zm220 220h160v-160H400v160Zm0 220h160v-160H400v160ZM180-400h160v-160H180v160Zm440 0h160v-160H620v160ZM180-180h160v-160H180v160Zm440 0h160v-160H620v160Z\"/>\n",
              "  </svg>\n",
              "    </button>\n",
              "\n",
              "  <style>\n",
              "    .colab-df-container {\n",
              "      display:flex;\n",
              "      gap: 12px;\n",
              "    }\n",
              "\n",
              "    .colab-df-convert {\n",
              "      background-color: #E8F0FE;\n",
              "      border: none;\n",
              "      border-radius: 50%;\n",
              "      cursor: pointer;\n",
              "      display: none;\n",
              "      fill: #1967D2;\n",
              "      height: 32px;\n",
              "      padding: 0 0 0 0;\n",
              "      width: 32px;\n",
              "    }\n",
              "\n",
              "    .colab-df-convert:hover {\n",
              "      background-color: #E2EBFA;\n",
              "      box-shadow: 0px 1px 2px rgba(60, 64, 67, 0.3), 0px 1px 3px 1px rgba(60, 64, 67, 0.15);\n",
              "      fill: #174EA6;\n",
              "    }\n",
              "\n",
              "    .colab-df-buttons div {\n",
              "      margin-bottom: 4px;\n",
              "    }\n",
              "\n",
              "    [theme=dark] .colab-df-convert {\n",
              "      background-color: #3B4455;\n",
              "      fill: #D2E3FC;\n",
              "    }\n",
              "\n",
              "    [theme=dark] .colab-df-convert:hover {\n",
              "      background-color: #434B5C;\n",
              "      box-shadow: 0px 1px 3px 1px rgba(0, 0, 0, 0.15);\n",
              "      filter: drop-shadow(0px 1px 2px rgba(0, 0, 0, 0.3));\n",
              "      fill: #FFFFFF;\n",
              "    }\n",
              "  </style>\n",
              "\n",
              "    <script>\n",
              "      const buttonEl =\n",
              "        document.querySelector('#df-4fc1ef53-6782-46a8-b90a-30eb2b8cc1fe button.colab-df-convert');\n",
              "      buttonEl.style.display =\n",
              "        google.colab.kernel.accessAllowed ? 'block' : 'none';\n",
              "\n",
              "      async function convertToInteractive(key) {\n",
              "        const element = document.querySelector('#df-4fc1ef53-6782-46a8-b90a-30eb2b8cc1fe');\n",
              "        const dataTable =\n",
              "          await google.colab.kernel.invokeFunction('convertToInteractive',\n",
              "                                                    [key], {});\n",
              "        if (!dataTable) return;\n",
              "\n",
              "        const docLinkHtml = 'Like what you see? Visit the ' +\n",
              "          '<a target=\"_blank\" href=https://colab.research.google.com/notebooks/data_table.ipynb>data table notebook</a>'\n",
              "          + ' to learn more about interactive tables.';\n",
              "        element.innerHTML = '';\n",
              "        dataTable['output_type'] = 'display_data';\n",
              "        await google.colab.output.renderOutput(dataTable, element);\n",
              "        const docLink = document.createElement('div');\n",
              "        docLink.innerHTML = docLinkHtml;\n",
              "        element.appendChild(docLink);\n",
              "      }\n",
              "    </script>\n",
              "  </div>\n",
              "\n",
              "\n",
              "<div id=\"df-e52d12b0-7542-431c-84e1-35784b6eab5d\">\n",
              "  <button class=\"colab-df-quickchart\" onclick=\"quickchart('df-e52d12b0-7542-431c-84e1-35784b6eab5d')\"\n",
              "            title=\"Suggest charts\"\n",
              "            style=\"display:none;\">\n",
              "\n",
              "<svg xmlns=\"http://www.w3.org/2000/svg\" height=\"24px\"viewBox=\"0 0 24 24\"\n",
              "     width=\"24px\">\n",
              "    <g>\n",
              "        <path d=\"M19 3H5c-1.1 0-2 .9-2 2v14c0 1.1.9 2 2 2h14c1.1 0 2-.9 2-2V5c0-1.1-.9-2-2-2zM9 17H7v-7h2v7zm4 0h-2V7h2v10zm4 0h-2v-4h2v4z\"/>\n",
              "    </g>\n",
              "</svg>\n",
              "  </button>\n",
              "\n",
              "<style>\n",
              "  .colab-df-quickchart {\n",
              "      --bg-color: #E8F0FE;\n",
              "      --fill-color: #1967D2;\n",
              "      --hover-bg-color: #E2EBFA;\n",
              "      --hover-fill-color: #174EA6;\n",
              "      --disabled-fill-color: #AAA;\n",
              "      --disabled-bg-color: #DDD;\n",
              "  }\n",
              "\n",
              "  [theme=dark] .colab-df-quickchart {\n",
              "      --bg-color: #3B4455;\n",
              "      --fill-color: #D2E3FC;\n",
              "      --hover-bg-color: #434B5C;\n",
              "      --hover-fill-color: #FFFFFF;\n",
              "      --disabled-bg-color: #3B4455;\n",
              "      --disabled-fill-color: #666;\n",
              "  }\n",
              "\n",
              "  .colab-df-quickchart {\n",
              "    background-color: var(--bg-color);\n",
              "    border: none;\n",
              "    border-radius: 50%;\n",
              "    cursor: pointer;\n",
              "    display: none;\n",
              "    fill: var(--fill-color);\n",
              "    height: 32px;\n",
              "    padding: 0;\n",
              "    width: 32px;\n",
              "  }\n",
              "\n",
              "  .colab-df-quickchart:hover {\n",
              "    background-color: var(--hover-bg-color);\n",
              "    box-shadow: 0 1px 2px rgba(60, 64, 67, 0.3), 0 1px 3px 1px rgba(60, 64, 67, 0.15);\n",
              "    fill: var(--button-hover-fill-color);\n",
              "  }\n",
              "\n",
              "  .colab-df-quickchart-complete:disabled,\n",
              "  .colab-df-quickchart-complete:disabled:hover {\n",
              "    background-color: var(--disabled-bg-color);\n",
              "    fill: var(--disabled-fill-color);\n",
              "    box-shadow: none;\n",
              "  }\n",
              "\n",
              "  .colab-df-spinner {\n",
              "    border: 2px solid var(--fill-color);\n",
              "    border-color: transparent;\n",
              "    border-bottom-color: var(--fill-color);\n",
              "    animation:\n",
              "      spin 1s steps(1) infinite;\n",
              "  }\n",
              "\n",
              "  @keyframes spin {\n",
              "    0% {\n",
              "      border-color: transparent;\n",
              "      border-bottom-color: var(--fill-color);\n",
              "      border-left-color: var(--fill-color);\n",
              "    }\n",
              "    20% {\n",
              "      border-color: transparent;\n",
              "      border-left-color: var(--fill-color);\n",
              "      border-top-color: var(--fill-color);\n",
              "    }\n",
              "    30% {\n",
              "      border-color: transparent;\n",
              "      border-left-color: var(--fill-color);\n",
              "      border-top-color: var(--fill-color);\n",
              "      border-right-color: var(--fill-color);\n",
              "    }\n",
              "    40% {\n",
              "      border-color: transparent;\n",
              "      border-right-color: var(--fill-color);\n",
              "      border-top-color: var(--fill-color);\n",
              "    }\n",
              "    60% {\n",
              "      border-color: transparent;\n",
              "      border-right-color: var(--fill-color);\n",
              "    }\n",
              "    80% {\n",
              "      border-color: transparent;\n",
              "      border-right-color: var(--fill-color);\n",
              "      border-bottom-color: var(--fill-color);\n",
              "    }\n",
              "    90% {\n",
              "      border-color: transparent;\n",
              "      border-bottom-color: var(--fill-color);\n",
              "    }\n",
              "  }\n",
              "</style>\n",
              "\n",
              "  <script>\n",
              "    async function quickchart(key) {\n",
              "      const quickchartButtonEl =\n",
              "        document.querySelector('#' + key + ' button');\n",
              "      quickchartButtonEl.disabled = true;  // To prevent multiple clicks.\n",
              "      quickchartButtonEl.classList.add('colab-df-spinner');\n",
              "      try {\n",
              "        const charts = await google.colab.kernel.invokeFunction(\n",
              "            'suggestCharts', [key], {});\n",
              "      } catch (error) {\n",
              "        console.error('Error during call to suggestCharts:', error);\n",
              "      }\n",
              "      quickchartButtonEl.classList.remove('colab-df-spinner');\n",
              "      quickchartButtonEl.classList.add('colab-df-quickchart-complete');\n",
              "    }\n",
              "    (() => {\n",
              "      let quickchartButtonEl =\n",
              "        document.querySelector('#df-e52d12b0-7542-431c-84e1-35784b6eab5d button');\n",
              "      quickchartButtonEl.style.display =\n",
              "        google.colab.kernel.accessAllowed ? 'block' : 'none';\n",
              "    })();\n",
              "  </script>\n",
              "</div>\n",
              "\n",
              "    </div>\n",
              "  </div>\n"
            ],
            "text/plain": [
              "   ID  user_id  product_id                                       product_name\n",
              "0   0     1916      185507                                  Maria [Australia]\n",
              "1   1     1759      143430  The Mitchells: Five for Victory (Van Stockum, ...\n",
              "2   2     1980      155861                     Superman Cartoons of Max & Dav\n",
              "3   3     1502       71535               The Rainbow Fish Anniversary Edition\n",
              "4   4     1255       13521              Confessions (Oxford World's Classics)"
            ]
          },
          "execution_count": 7,
          "metadata": {},
          "output_type": "execute_result"
        }
      ],
      "source": [
        "test_df.head()"
      ]
    },
    {
      "cell_type": "markdown",
      "metadata": {
        "id": "e6g7OFfHpjgu"
      },
      "source": [
        "look at the dimension"
      ]
    },
    {
      "cell_type": "code",
      "execution_count": 8,
      "metadata": {
        "colab": {
          "base_uri": "https://localhost:8080/"
        },
        "id": "rvYaxK8ch6PM",
        "outputId": "69d44a1f-b3b8-487d-b11f-515f4e583fed"
      },
      "outputs": [
        {
          "name": "stdout",
          "output_type": "stream",
          "text": [
            "(745889, 7) (223553, 4)\n"
          ]
        }
      ],
      "source": [
        "print(train_df.shape, test_df.shape)"
      ]
    },
    {
      "cell_type": "markdown",
      "metadata": {
        "id": "jTgq2USCpsPu"
      },
      "source": [
        "What are the number of products that only appear in test data?"
      ]
    },
    {
      "cell_type": "code",
      "execution_count": 9,
      "metadata": {
        "colab": {
          "base_uri": "https://localhost:8080/"
        },
        "id": "lPFDK9nh3Plf",
        "outputId": "7e3ef77a-f15d-4fba-e6ce-d3dc1ad5376c"
      },
      "outputs": [
        {
          "name": "stdout",
          "output_type": "stream",
          "text": [
            "Number of product IDs that appear only in test_df: 18534\n"
          ]
        }
      ],
      "source": [
        "# Get the unique product IDs from test_df and train_df\n",
        "test_product_ids = set(test_df['product_id'].unique())\n",
        "train_product_ids = set(train_df['product_id'].unique())\n",
        "\n",
        "# Find the product IDs that appear in test_df but not in train_df\n",
        "unique_test_product_ids = test_product_ids - train_product_ids\n",
        "\n",
        "# Get the count of product IDs that appear only in test_df\n",
        "unique_test_product_count = len(unique_test_product_ids)\n",
        "\n",
        "# Print the count\n",
        "print(\"Number of product IDs that appear only in test_df:\", unique_test_product_count)\n"
      ]
    },
    {
      "cell_type": "code",
      "execution_count": 10,
      "metadata": {
        "colab": {
          "base_uri": "https://localhost:8080/"
        },
        "id": "Iudf8RNZ3a-c",
        "outputId": "f615ba1a-68f0-44ae-944c-e7d197dd261e"
      },
      "outputs": [
        {
          "name": "stdout",
          "output_type": "stream",
          "text": [
            "Total number of unique product IDs: 219859\n"
          ]
        }
      ],
      "source": [
        "# Get the unique product IDs from test_df and train_df\n",
        "test_product_ids = set(test_df['product_id'].unique())\n",
        "train_product_ids = set(train_df['product_id'].unique())\n",
        "\n",
        "# Find the union of the sets\n",
        "total_product_ids = test_product_ids.union(train_product_ids)\n",
        "\n",
        "# Get the total count of unique product IDs\n",
        "total_product_count = len(total_product_ids)\n",
        "\n",
        "# Print the count\n",
        "print(\"Total number of unique product IDs:\", total_product_count)\n"
      ]
    },
    {
      "cell_type": "markdown",
      "metadata": {
        "id": "a66ynviLqOxI"
      },
      "source": [
        "### The solution"
      ]
    },
    {
      "cell_type": "markdown",
      "metadata": {
        "id": "GJF2l5ulzXTG"
      },
      "source": [
        "This is an overview of what the solution does"
      ]
    },
    {
      "cell_type": "markdown",
      "metadata": {
        "id": "VDQLzWu1yfWK"
      },
      "source": [
        "![Capture.PNG](data:image/png;base64,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)"
      ]
    },
    {
      "cell_type": "markdown",
      "metadata": {
        "id": "qkq_FjsNrAA4"
      },
      "source": [
        "Set seed for deterministic result"
      ]
    },
    {
      "cell_type": "code",
      "execution_count": 17,
      "metadata": {
        "id": "PHqSqT3Rq8pw"
      },
      "outputs": [],
      "source": [
        "from sklearn.model_selection import train_test_split\n",
        "from sklearn.ensemble import RandomForestRegressor\n",
        "\n",
        "# set seed\n",
        "seed = 44\n",
        "random.seed(seed)\n",
        "np.random.seed(seed)"
      ]
    },
    {
      "cell_type": "markdown",
      "metadata": {
        "id": "atLcYipqrG4O"
      },
      "source": [
        "Load datasets and prepare data to be used later"
      ]
    },
    {
      "cell_type": "code",
      "execution_count": 18,
      "metadata": {
        "id": "EUwQa2uprGQR"
      },
      "outputs": [],
      "source": [
        "# load daatsets\n",
        "train_data = pd.read_csv('/train.csv')\n",
        "test_data = pd.read_csv('/test.csv')\n",
        "\n",
        "# aggregate data to be used later\n",
        "unique_product_ids = set(train_data['product_id'].unique())\n",
        "avg_rating = train_data.groupby('user_id')['rating'].mean().to_dict()\n",
        "user_rate_count = train_data.groupby('user_id').size()\n",
        "\n",
        "rating_counts = [{} for _ in range(5)]\n",
        "for rating in range(1, 6):\n",
        "    filtered_data = train_data[train_data['rating'] == rating]\n",
        "    user_rating_counts = filtered_data['user_id'].value_counts().to_dict()\n",
        "    rating_counts[rating - 1] = user_rating_counts"
      ]
    },
    {
      "cell_type": "markdown",
      "metadata": {
        "id": "atAUyKhjrbtR"
      },
      "source": [
        "Create array to store data"
      ]
    },
    {
      "cell_type": "code",
      "execution_count": 19,
      "metadata": {
        "id": "vzPphtcDrinh"
      },
      "outputs": [],
      "source": [
        "# prepare arrays to store data\n",
        "all_res = pd.DataFrame(columns=['actual_rating'], index=range(len(train_data)))\n",
        "all_res['actual_rating'] = train_data['rating']\n",
        "SVD_preds = [None] * len(train_data)\n",
        "NMF_preds = [None] * len(train_data)\n",
        "KNN_preds = [None] * len(train_data)\n",
        "CoCl_preds = [None] * len(train_data)\n",
        "avg_preds = [None] * len(train_data)\n",
        "avg_user_rating = [None] * len(train_data)\n",
        "min_user_rating = [None] * len(train_data)\n",
        "max_user_rating = [None] * len(train_data)\n",
        "total_user_vote = [None] * len(train_data)\n",
        "total_user_hvote = [None] * len(train_data)\n",
        "total_user_rate_count = [None] * len(train_data)\n",
        "total_user_rate1 = [None] * len(train_data)\n",
        "total_user_rate2 = [None] * len(train_data)\n",
        "total_user_rate3 = [None] * len(train_data)\n",
        "total_user_rate4 = [None] * len(train_data)\n",
        "total_user_rate5 = [None] * len(train_data)"
      ]
    },
    {
      "cell_type": "markdown",
      "metadata": {
        "id": "4b3iUkeerskv"
      },
      "source": [
        "This is where a lot of things happen. Here is a quick overview:\n",
        "- This whole cell is a cross validation process (to get the predictions of the models)\n",
        "- For each fold, the model SVD, NMK, KNN and CoClustering are trained and used to predict the test fold.\n",
        "- Also, for each fold, collect data related to the test fold (e.g. average user rating) to be used as the features to the RF model later.\n",
        "- After all fold, we would have had the predictions and other features for all the rows in the train set."
      ]
    },
    {
      "cell_type": "code",
      "execution_count": 20,
      "metadata": {
        "colab": {
          "base_uri": "https://localhost:8080/"
        },
        "id": "9uA9bSy4kJfe",
        "outputId": "56ffd95e-e2a7-420b-99e6-0ead0b1d8194"
      },
      "outputs": [
        {
          "name": "stdout",
          "output_type": "stream",
          "text": [
            "Fold 1\n"
          ]
        },
        {
          "name": "stderr",
          "output_type": "stream",
          "text": [
            "Predicting ratings using SVD: 100%|██████████| 149178/149178 [00:13<00:00, 10929.87it/s]\n",
            "Predicting ratings using NMF: 100%|██████████| 149178/149178 [00:11<00:00, 13268.33it/s]\n"
          ]
        },
        {
          "name": "stdout",
          "output_type": "stream",
          "text": [
            "Computing the msd similarity matrix...\n",
            "Done computing similarity matrix.\n"
          ]
        },
        {
          "name": "stderr",
          "output_type": "stream",
          "text": [
            "Predicting ratings using KNN: 100%|██████████| 149178/149178 [00:14<00:00, 10207.26it/s]\n",
            "Predicting ratings using CoClustering: 100%|██████████| 149178/149178 [00:10<00:00, 14839.22it/s]\n"
          ]
        },
        {
          "name": "stdout",
          "output_type": "stream",
          "text": [
            "Fold 2\n"
          ]
        },
        {
          "name": "stderr",
          "output_type": "stream",
          "text": [
            "Predicting ratings using SVD: 100%|██████████| 149178/149178 [00:13<00:00, 10761.17it/s]\n",
            "Predicting ratings using NMF: 100%|██████████| 149178/149178 [00:11<00:00, 13013.66it/s]\n"
          ]
        },
        {
          "name": "stdout",
          "output_type": "stream",
          "text": [
            "Computing the msd similarity matrix...\n",
            "Done computing similarity matrix.\n"
          ]
        },
        {
          "name": "stderr",
          "output_type": "stream",
          "text": [
            "Predicting ratings using KNN: 100%|██████████| 149178/149178 [00:14<00:00, 10273.21it/s]\n",
            "Predicting ratings using CoClustering: 100%|██████████| 149178/149178 [00:09<00:00, 15229.36it/s]\n"
          ]
        },
        {
          "name": "stdout",
          "output_type": "stream",
          "text": [
            "Fold 3\n"
          ]
        },
        {
          "name": "stderr",
          "output_type": "stream",
          "text": [
            "Predicting ratings using SVD: 100%|██████████| 149178/149178 [00:13<00:00, 11409.42it/s]\n",
            "Predicting ratings using NMF: 100%|██████████| 149178/149178 [00:11<00:00, 12665.01it/s]\n"
          ]
        },
        {
          "name": "stdout",
          "output_type": "stream",
          "text": [
            "Computing the msd similarity matrix...\n",
            "Done computing similarity matrix.\n"
          ]
        },
        {
          "name": "stderr",
          "output_type": "stream",
          "text": [
            "Predicting ratings using KNN: 100%|██████████| 149178/149178 [00:14<00:00, 10405.28it/s]\n",
            "Predicting ratings using CoClustering: 100%|██████████| 149178/149178 [00:09<00:00, 15210.79it/s]\n"
          ]
        },
        {
          "name": "stdout",
          "output_type": "stream",
          "text": [
            "Fold 4\n"
          ]
        },
        {
          "name": "stderr",
          "output_type": "stream",
          "text": [
            "Predicting ratings using SVD: 100%|██████████| 149178/149178 [00:12<00:00, 11805.24it/s]\n",
            "Predicting ratings using NMF: 100%|██████████| 149178/149178 [00:11<00:00, 12506.76it/s]\n"
          ]
        },
        {
          "name": "stdout",
          "output_type": "stream",
          "text": [
            "Computing the msd similarity matrix...\n",
            "Done computing similarity matrix.\n"
          ]
        },
        {
          "name": "stderr",
          "output_type": "stream",
          "text": [
            "Predicting ratings using KNN: 100%|██████████| 149178/149178 [00:15<00:00, 9767.97it/s] \n",
            "Predicting ratings using CoClustering: 100%|██████████| 149178/149178 [00:10<00:00, 14748.00it/s]\n"
          ]
        },
        {
          "name": "stdout",
          "output_type": "stream",
          "text": [
            "Fold 5\n"
          ]
        },
        {
          "name": "stderr",
          "output_type": "stream",
          "text": [
            "Predicting ratings using SVD: 100%|██████████| 149177/149177 [00:13<00:00, 10839.91it/s]\n",
            "Predicting ratings using NMF: 100%|██████████| 149177/149177 [00:11<00:00, 13240.91it/s]\n"
          ]
        },
        {
          "name": "stdout",
          "output_type": "stream",
          "text": [
            "Computing the msd similarity matrix...\n",
            "Done computing similarity matrix.\n"
          ]
        },
        {
          "name": "stderr",
          "output_type": "stream",
          "text": [
            "Predicting ratings using KNN: 100%|██████████| 149177/149177 [00:14<00:00, 10249.65it/s]\n",
            "Predicting ratings using CoClustering: 100%|██████████| 149177/149177 [00:09<00:00, 15268.83it/s]\n"
          ]
        }
      ],
      "source": [
        "# Perform k-fold cross-validation\n",
        "kf = KFold(n_splits=5, shuffle=True, random_state=seed)\n",
        "\n",
        "# for each fold\n",
        "for fold, (train_index, val_index) in enumerate(kf.split(train_data)):\n",
        "    print(f\"Fold {fold+1}\")\n",
        "\n",
        "    # split data\n",
        "    train_fold = train_data.iloc[train_index]\n",
        "    val_fold = train_data.iloc[val_index]\n",
        "\n",
        "    # aggregate data to easily refer to\n",
        "    u_avg_rating = train_fold.groupby('user_id')['rating'].mean().to_dict()\n",
        "    u_min_rating = train_fold.groupby('user_id')['rating'].min().to_dict()\n",
        "    u_max_rating = train_fold.groupby('user_id')['rating'].max().to_dict()\n",
        "    u_total_vote = train_fold.groupby('user_id')['votes'].sum().to_dict()\n",
        "    u_total_hvote = train_fold.groupby('user_id')['helpful_votes'].sum().to_dict()\n",
        "    u_rate_count = train_fold.groupby('user_id').size()\n",
        "\n",
        "    u_rating_counts = [{} for _ in range(5)]\n",
        "    for rating in range(1, 6):\n",
        "        filtered_data = train_fold[train_fold['rating'] == rating]\n",
        "        user_rating_counts = filtered_data['user_id'].value_counts().to_dict()\n",
        "        u_rating_counts[rating - 1] = user_rating_counts\n",
        "\n",
        "\n",
        "    # TRAIN MODELS AND MAKE PREDICTIONS-----------------------------------------\n",
        "\n",
        "    # train SVD\n",
        "    train_subset = train_fold.copy()\n",
        "    reader = Reader()\n",
        "    train_subset = Dataset.load_from_df(train_subset[['user_id', 'product_id', 'rating']], reader)\n",
        "    train_subset = train_subset.build_full_trainset()\n",
        "    algo_SVD = SVD(n_factors=150, n_epochs=200, lr_all=0.02, reg_all=0.06, random_state=seed)\n",
        "    algo_SVD.fit(train_subset)\n",
        "\n",
        "    # predict using SVD (while looping through the test fold, also collect other features)\n",
        "    for index, row in tqdm(val_fold.iterrows(), total=len(val_fold), desc=\"Predicting ratings using SVD\"):\n",
        "        userId = row['user_id']\n",
        "        prodId = row['product_id']\n",
        "        rowId = row['ID']\n",
        "\n",
        "        # Predict rating using the trained SVD algorithm\n",
        "        predicted_rating = algo_SVD.predict(userId, prodId).est\n",
        "        SVD_preds[rowId] = predicted_rating\n",
        "\n",
        "        # collect other features\n",
        "        avg_user_rating[rowId] = u_avg_rating.get(userId)\n",
        "        min_user_rating[rowId] = u_min_rating.get(userId)\n",
        "        max_user_rating[rowId] = u_max_rating.get(userId)\n",
        "        total_user_vote[rowId] = u_total_vote.get(userId)\n",
        "        total_user_hvote[rowId] = u_total_hvote.get(userId)\n",
        "        total_user_rate_count[rowId] = u_rate_count.get(userId)\n",
        "        total_user_rate1[rowId] = u_rating_counts[0].get(userId) if u_rating_counts[0].get(userId) is not None else 0\n",
        "        total_user_rate2[rowId] = u_rating_counts[1].get(userId) if u_rating_counts[1].get(userId) is not None else 0\n",
        "        total_user_rate3[rowId] = u_rating_counts[2].get(userId) if u_rating_counts[2].get(userId) is not None else 0\n",
        "        total_user_rate4[rowId] = u_rating_counts[3].get(userId) if u_rating_counts[3].get(userId) is not None else 0\n",
        "        total_user_rate5[rowId] = u_rating_counts[4].get(userId) if u_rating_counts[4].get(userId) is not None else 0\n",
        "\n",
        "\n",
        "    # train NMF\n",
        "    train_subset = train_fold.copy()\n",
        "    train_subset = Dataset.load_from_df(train_subset[['user_id', 'product_id', 'rating']], reader)\n",
        "    train_subset = train_subset.build_full_trainset()\n",
        "    algo_NMF = NMF(n_factors=20, n_epochs=30, reg_pu=0.06, reg_qi=0.06, random_state=seed)\n",
        "    algo_NMF.fit(train_subset)\n",
        "\n",
        "    # predict using NMF\n",
        "    for index, row in tqdm(val_fold.iterrows(), total=len(val_fold), desc=\"Predicting ratings using NMF\"):\n",
        "        userId = row['user_id']\n",
        "        prodId = row['product_id']\n",
        "        rowId = row['ID']\n",
        "\n",
        "        # Predict rating using the trained NMF algorithm\n",
        "        predicted_rating = algo_NMF.predict(userId, prodId).est\n",
        "        NMF_preds[rowId] = predicted_rating\n",
        "\n",
        "\n",
        "    # train KNN\n",
        "    train_subset = train_fold.copy()\n",
        "    train_subset = Dataset.load_from_df(train_subset[['user_id', 'product_id', 'rating']], reader)\n",
        "    train_subset = train_subset.build_full_trainset()\n",
        "    algo_KNN = KNNBasic(random_state=seed)\n",
        "    algo_KNN.fit(train_subset)\n",
        "\n",
        "    # predict using KNN\n",
        "    for index, row in tqdm(val_fold.iterrows(), total=len(val_fold), desc=\"Predicting ratings using KNN\"):\n",
        "        userId = row['user_id']\n",
        "        prodId = row['product_id']\n",
        "        rowId = row['ID']\n",
        "\n",
        "        # Predict rating using the trained NMF algorithm\n",
        "        predicted_rating = algo_KNN.predict(userId, prodId).est\n",
        "        KNN_preds[rowId] = predicted_rating\n",
        "\n",
        "\n",
        "    # train CoClustering\n",
        "    train_subset = train_fold.copy()\n",
        "    train_subset = Dataset.load_from_df(train_subset[['user_id', 'product_id', 'rating']], reader)\n",
        "    train_subset = train_subset.build_full_trainset()\n",
        "    algo_CoCl = CoClustering(random_state=seed)\n",
        "    algo_CoCl.fit(train_subset)\n",
        "\n",
        "    # predict using CoClustering\n",
        "    for index, row in tqdm(val_fold.iterrows(), total=len(val_fold), desc=\"Predicting ratings using CoClustering\"):\n",
        "        userId = row['user_id']\n",
        "        prodId = row['product_id']\n",
        "        rowId = row['ID']\n",
        "\n",
        "        # Predict rating using the trained NMF algorithm\n",
        "        predicted_rating = algo_CoCl.predict(userId, prodId).est\n",
        "        CoCl_preds[rowId] = predicted_rating\n",
        "\n",
        "# average prediction (another feature)\n",
        "avg_preds = (np.array(SVD_preds) + np.array(NMF_preds) + np.array(KNN_preds) + np.array(CoCl_preds)) / 4\n"
      ]
    },
    {
      "cell_type": "markdown",
      "metadata": {
        "id": "5CLrwzy-tw4I"
      },
      "source": [
        "Also, a lot of things happen here. Here is a quick overview:\n",
        "- Load data\n",
        "- Aggregate data (e.g. get average rating per user)\n",
        "- Train SVD, NMF, KNN, CoClustering on full training data\n",
        "- Use these models to make predictions on the test data while collecting features from test data\n",
        "- Use the features collected from the previous cell to train RF.\n",
        "- Use RF to predict test data based on the predictions and other features collected from test data\n",
        "\n",
        "Please refer to the code's comment for more detail"
      ]
    },
    {
      "cell_type": "code",
      "execution_count": 21,
      "metadata": {
        "colab": {
          "base_uri": "https://localhost:8080/"
        },
        "id": "jKTgSswgtvRk",
        "outputId": "a842750b-1ac7-4a84-eb94-8b8458613b6e"
      },
      "outputs": [
        {
          "name": "stdout",
          "output_type": "stream",
          "text": [
            "Computing the msd similarity matrix...\n",
            "Done computing similarity matrix.\n"
          ]
        },
        {
          "name": "stderr",
          "output_type": "stream",
          "text": [
            "Predicting ratings: 100%|██████████| 223553/223553 [00:32<00:00, 6937.25it/s]\n"
          ]
        }
      ],
      "source": [
        "from cuml.ensemble import RandomForestRegressor\n",
        "\n",
        "# load the dataset again (just in case data was changed previously)\n",
        "train_data = pd.read_csv('/train.csv')\n",
        "test_data = pd.read_csv('/test.csv')\n",
        "\n",
        "# aggregate data so it's easy to refer to later\n",
        "unique_product_ids = set(train_data['product_id'].unique())\n",
        "avg_rating = train_data.groupby('user_id')['rating'].mean().to_dict()\n",
        "min_rating = train_data.groupby('user_id')['rating'].min().to_dict()\n",
        "max_rating = train_data.groupby('user_id')['rating'].max().to_dict()\n",
        "user_total_vote = train_data.groupby('user_id')['votes'].sum().to_dict()\n",
        "user_total_hvote = train_data.groupby('user_id')['helpful_votes'].sum().to_dict()\n",
        "user_rate_count = train_data.groupby('user_id').size()\n",
        "\n",
        "rating_counts = [{} for _ in range(5)]\n",
        "for rating in range(1, 6):\n",
        "    filtered_data = train_data[train_data['rating'] == rating]\n",
        "    user_rating_counts = filtered_data['user_id'].value_counts().to_dict()\n",
        "    rating_counts[rating - 1] = user_rating_counts\n",
        "\n",
        "\n",
        "# train all the models again. This time with the full training data, so we get the best models to make the final predictions\n",
        "train_subset = train_data.copy()\n",
        "reader = Reader()\n",
        "train_subset = Dataset.load_from_df(train_subset[['user_id', 'product_id', 'rating']], reader)\n",
        "train_subset = train_subset.build_full_trainset()\n",
        "\n",
        "algo_SVD = SVD(n_factors=150, n_epochs=200, lr_all=0.02, reg_all=0.06, random_state=seed)\n",
        "algo_SVD.fit(train_subset)\n",
        "\n",
        "algo_NMF = NMF(n_factors=20, n_epochs=30, reg_pu=0.06, reg_qi=0.06, random_state=seed)\n",
        "algo_NMF.fit(train_subset)\n",
        "\n",
        "algo_KNN = KNNBasic(random_state=seed)\n",
        "algo_KNN.fit(train_subset)\n",
        "\n",
        "algo_CoCl = CoClustering(random_state=seed)\n",
        "algo_CoCl.fit(train_subset)\n",
        "\n",
        "# prepare arrays to store test set features data\n",
        "SVD_preds_test = [None] * len(test_data)\n",
        "NMF_preds_test = [None] * len(test_data)\n",
        "KNN_preds_test = [None] * len(test_data)\n",
        "CoCl_preds_test = [None] * len(test_data)\n",
        "avg_preds_test = [None] * len(test_data)\n",
        "avg_user_rating_test = [None] * len(test_data)\n",
        "min_user_rating_test = [None] * len(test_data)\n",
        "max_user_rating_test = [None] * len(test_data)\n",
        "total_user_vote_test = [None] * len(test_data)\n",
        "total_user_hvote_test = [None] * len(test_data)\n",
        "total_user_rate_count_test = [None] * len(test_data)\n",
        "total_user_rate1_test = [None] * len(test_data)\n",
        "total_user_rate2_test = [None] * len(test_data)\n",
        "total_user_rate3_test = [None] * len(test_data)\n",
        "total_user_rate4_test = [None] * len(test_data)\n",
        "total_user_rate5_test = [None] * len(test_data)\n",
        "\n",
        "# MAKE PREDICTIONS ON THE FINAL TEST DATA\n",
        "# for each row in the test set\n",
        "for index, row in tqdm(test_data.iterrows(), total=len(test_data), desc=\"Predicting ratings\"):\n",
        "    userId = row['user_id']\n",
        "    prodId = row['product_id']\n",
        "    rowId = row['ID']\n",
        "\n",
        "    # Predict rating using the trained SVD, NMF, KNN, CoCl algorithm\n",
        "    predicted_rating_svd = algo_SVD.predict(userId, prodId).est\n",
        "    predicted_rating_nmf = algo_NMF.predict(userId, prodId).est\n",
        "    predicted_rating_knn = algo_KNN.predict(userId, prodId).est\n",
        "    predicted_rating_cocl = algo_CoCl.predict(userId, prodId).est\n",
        "\n",
        "    # store the predictions\n",
        "    SVD_preds_test[rowId] = predicted_rating_svd\n",
        "    NMF_preds_test[rowId] = predicted_rating_nmf\n",
        "    KNN_preds_test[rowId] = predicted_rating_knn\n",
        "    CoCl_preds_test[rowId] = predicted_rating_cocl\n",
        "    avg_preds_test[rowId] = (predicted_rating_svd + predicted_rating_nmf + predicted_rating_knn + predicted_rating_cocl) / 4\n",
        "\n",
        "    # collect other features\n",
        "    avg_user_rating_test[rowId] = avg_rating.get(userId)\n",
        "    min_user_rating_test[rowId] = min_rating.get(userId)\n",
        "    max_user_rating_test[rowId] = max_rating.get(userId)\n",
        "    total_user_vote_test[rowId] = user_total_vote.get(userId)\n",
        "    total_user_hvote_test[rowId] = user_total_hvote.get(userId)\n",
        "    total_user_rate_count_test[rowId] = user_rate_count.get(userId)\n",
        "    total_user_rate1_test[rowId] = rating_counts[0].get(userId) if u_rating_counts[0].get(userId) is not None else 0\n",
        "    total_user_rate2_test[rowId] = rating_counts[1].get(userId) if u_rating_counts[1].get(userId) is not None else 0\n",
        "    total_user_rate3_test[rowId] = rating_counts[2].get(userId) if u_rating_counts[2].get(userId) is not None else 0\n",
        "    total_user_rate4_test[rowId] = rating_counts[3].get(userId) if u_rating_counts[3].get(userId) is not None else 0\n",
        "    total_user_rate5_test[rowId] = rating_counts[4].get(userId) if u_rating_counts[4].get(userId) is not None else 0\n",
        "\n",
        "# create a dataframe holding all the features from the training data (from the previous cell)\n",
        "train_set = pd.DataFrame()\n",
        "train_set['SVD_preds'] = SVD_preds\n",
        "train_set['NMF_preds'] = NMF_preds\n",
        "train_set['KNN_preds'] = KNN_preds\n",
        "train_set['CoCl_preds'] = CoCl_preds\n",
        "train_set['avg_preds'] = avg_preds\n",
        "train_set['avg_user_rating'] = avg_user_rating\n",
        "train_set['min_user_rating'] = min_user_rating\n",
        "train_set['max_user_rating'] = max_user_rating\n",
        "train_set['total_user_vote'] = total_user_vote\n",
        "train_set['total_user_hvote'] = total_user_hvote\n",
        "train_set['total_user_rate_count'] = total_user_rate_count\n",
        "train_set['total_user_rate1'] = total_user_rate1\n",
        "train_set['total_user_rate2'] = total_user_rate2\n",
        "train_set['total_user_rate3'] = total_user_rate3\n",
        "train_set['total_user_rate4'] = total_user_rate4\n",
        "train_set['total_user_rate5'] = total_user_rate5\n",
        "train_set['actual_rating'] = train_data['rating']\n",
        "\n",
        "# create a dataframe holding all the features from the test data\n",
        "val_set = pd.DataFrame()\n",
        "val_set['SVD_preds'] = SVD_preds_test\n",
        "val_set['NMF_preds'] = NMF_preds_test\n",
        "val_set['KNN_preds'] = KNN_preds_test\n",
        "val_set['CoCl_preds'] = CoCl_preds_test\n",
        "val_set['avg_preds'] = avg_preds_test\n",
        "val_set['avg_user_rating'] = avg_user_rating_test\n",
        "val_set['min_user_rating'] = min_user_rating_test\n",
        "val_set['max_user_rating'] = max_user_rating_test\n",
        "val_set['total_user_vote'] = total_user_vote_test\n",
        "val_set['total_user_hvote'] = total_user_hvote_test\n",
        "val_set['total_user_rate1'] = total_user_rate1_test\n",
        "val_set['total_user_rate2'] = total_user_rate2_test\n",
        "val_set['total_user_rate3'] = total_user_rate3_test\n",
        "val_set['total_user_rate4'] = total_user_rate4_test\n",
        "val_set['total_user_rate5'] = total_user_rate5_test\n",
        "val_set['total_user_rate_count'] = total_user_rate_count_test\n",
        "\n",
        "# train RF on features from train data\n",
        "X_train = train_set[['SVD_preds', 'NMF_preds', 'KNN_preds', 'CoCl_preds', 'avg_preds', 'avg_user_rating', 'min_user_rating', 'max_user_rating', 'total_user_vote', 'total_user_hvote', 'total_user_rate_count', 'total_user_rate1', 'total_user_rate2', 'total_user_rate3', 'total_user_rate4', 'total_user_rate5']]\n",
        "y_train = train_set['actual_rating']\n",
        "\n",
        "# features collected from the final test set\n",
        "X_val = val_set[['SVD_preds', 'NMF_preds', 'KNN_preds', 'CoCl_preds', 'avg_preds', 'avg_user_rating', 'min_user_rating', 'max_user_rating', 'total_user_vote', 'total_user_hvote', 'total_user_rate_count', 'total_user_rate1', 'total_user_rate2', 'total_user_rate3', 'total_user_rate4', 'total_user_rate5']]\n",
        "\n",
        "# change data type of the features so that random forest can run (this RF uses GPU, not CPU)\n",
        "for col in X_train.select_dtypes('float64').columns:\n",
        "    X_train[col] = X_train[col].astype( np.float32 )\n",
        "    X_val[col] = X_val[col].astype( np.float32 )\n",
        "\n",
        "y_train = y_train.astype( np.float32 )\n",
        "\n",
        "for col in X_train.select_dtypes('int64').columns:\n",
        "    X_train[col] = X_train[col].astype( np.float32 )\n",
        "    X_val[col] = X_val[col].astype( np.float32 )\n",
        "\n",
        "\n",
        "# Instantiate and fit the Random Forest model\n",
        "rf = RandomForestRegressor(n_estimators=150, max_depth=10,\n",
        "                            min_samples_split=2, min_samples_leaf=8,\n",
        "                            random_state=seed, n_streams=1)\n",
        "\n",
        "# fit the random forest model\n",
        "rf.fit(X_train, y_train)\n",
        "\n",
        "# Make the final prediction\n",
        "y_pred = rf.predict(X_val)"
      ]
    },
    {
      "cell_type": "markdown",
      "metadata": {
        "id": "_scgvH77v5AW"
      },
      "source": [
        "Save the predictions into the csv file"
      ]
    },
    {
      "cell_type": "code",
      "execution_count": 22,
      "metadata": {
        "id": "QK5ub6s0v5ZF"
      },
      "outputs": [],
      "source": [
        "res = pd.DataFrame({'ID': range(len(y_pred)), 'rating': y_pred})\n",
        "res.to_csv('submission.csv', index=False)"
      ]
    }
  ],
  "metadata": {
    "accelerator": "GPU",
    "colab": {
      "gpuType": "T4",
      "machine_shape": "hm",
      "provenance": []
    },
    "kernelspec": {
      "display_name": "Python 3",
      "name": "python3"
    },
    "language_info": {
      "name": "python"
    },
    "widgets": {
      "application/vnd.jupyter.widget-state+json": {
        "19dd5f73afca4732aca6ba2816901cdf": {
          "model_module": "@jupyter-widgets/base",
          "model_module_version": "1.2.0",
          "model_name": "LayoutModel",
          "state": {
            "_model_module": "@jupyter-widgets/base",
            "_model_module_version": "1.2.0",
            "_model_name": "LayoutModel",
            "_view_count": null,
            "_view_module": "@jupyter-widgets/base",
            "_view_module_version": "1.2.0",
            "_view_name": "LayoutView",
            "align_content": null,
            "align_items": null,
            "align_self": null,
            "border": null,
            "bottom": null,
            "display": null,
            "flex": null,
            "flex_flow": null,
            "grid_area": null,
            "grid_auto_columns": null,
            "grid_auto_flow": null,
            "grid_auto_rows": null,
            "grid_column": null,
            "grid_gap": null,
            "grid_row": null,
            "grid_template_areas": null,
            "grid_template_columns": null,
            "grid_template_rows": null,
            "height": null,
            "justify_content": null,
            "justify_items": null,
            "left": null,
            "margin": null,
            "max_height": null,
            "max_width": null,
            "min_height": null,
            "min_width": null,
            "object_fit": null,
            "object_position": null,
            "order": null,
            "overflow": null,
            "overflow_x": null,
            "overflow_y": null,
            "padding": null,
            "right": null,
            "top": null,
            "visibility": null,
            "width": null
          }
        },
        "254a2be62d704377b69b9a6161c8d25c": {
          "model_module": "@jupyter-widgets/controls",
          "model_module_version": "1.5.0",
          "model_name": "HTMLModel",
          "state": {
            "_dom_classes": [],
            "_model_module": "@jupyter-widgets/controls",
            "_model_module_version": "1.5.0",
            "_model_name": "HTMLModel",
            "_view_count": null,
            "_view_module": "@jupyter-widgets/controls",
            "_view_module_version": "1.5.0",
            "_view_name": "HTMLView",
            "description": "",
            "description_tooltip": null,
            "layout": "IPY_MODEL_2f4debd9e8094550a80adc146d377214",
            "placeholder": "​",
            "style": "IPY_MODEL_be8a6478d63a4b38b5aaaec79cc24687",
            "value": "100%"
          }
        },
        "2f4debd9e8094550a80adc146d377214": {
          "model_module": "@jupyter-widgets/base",
          "model_module_version": "1.2.0",
          "model_name": "LayoutModel",
          "state": {
            "_model_module": "@jupyter-widgets/base",
            "_model_module_version": "1.2.0",
            "_model_name": "LayoutModel",
            "_view_count": null,
            "_view_module": "@jupyter-widgets/base",
            "_view_module_version": "1.2.0",
            "_view_name": "LayoutView",
            "align_content": null,
            "align_items": null,
            "align_self": null,
            "border": null,
            "bottom": null,
            "display": null,
            "flex": null,
            "flex_flow": null,
            "grid_area": null,
            "grid_auto_columns": null,
            "grid_auto_flow": null,
            "grid_auto_rows": null,
            "grid_column": null,
            "grid_gap": null,
            "grid_row": null,
            "grid_template_areas": null,
            "grid_template_columns": null,
            "grid_template_rows": null,
            "height": null,
            "justify_content": null,
            "justify_items": null,
            "left": null,
            "margin": null,
            "max_height": null,
            "max_width": null,
            "min_height": null,
            "min_width": null,
            "object_fit": null,
            "object_position": null,
            "order": null,
            "overflow": null,
            "overflow_x": null,
            "overflow_y": null,
            "padding": null,
            "right": null,
            "top": null,
            "visibility": null,
            "width": null
          }
        },
        "30af352729bc4de3aca5455adb34af8c": {
          "model_module": "@jupyter-widgets/controls",
          "model_module_version": "1.5.0",
          "model_name": "HBoxModel",
          "state": {
            "_dom_classes": [],
            "_model_module": "@jupyter-widgets/controls",
            "_model_module_version": "1.5.0",
            "_model_name": "HBoxModel",
            "_view_count": null,
            "_view_module": "@jupyter-widgets/controls",
            "_view_module_version": "1.5.0",
            "_view_name": "HBoxView",
            "box_style": "",
            "children": [
              "IPY_MODEL_254a2be62d704377b69b9a6161c8d25c",
              "IPY_MODEL_a5297682ee3c42fcbf299a6258c18e99",
              "IPY_MODEL_6a9fb817f49d479993f61d78de3dbe53"
            ],
            "layout": "IPY_MODEL_36f30c9dc02a44a0af86dd89d780c5c7"
          }
        },
        "36f30c9dc02a44a0af86dd89d780c5c7": {
          "model_module": "@jupyter-widgets/base",
          "model_module_version": "1.2.0",
          "model_name": "LayoutModel",
          "state": {
            "_model_module": "@jupyter-widgets/base",
            "_model_module_version": "1.2.0",
            "_model_name": "LayoutModel",
            "_view_count": null,
            "_view_module": "@jupyter-widgets/base",
            "_view_module_version": "1.2.0",
            "_view_name": "LayoutView",
            "align_content": null,
            "align_items": null,
            "align_self": null,
            "border": null,
            "bottom": null,
            "display": null,
            "flex": null,
            "flex_flow": null,
            "grid_area": null,
            "grid_auto_columns": null,
            "grid_auto_flow": null,
            "grid_auto_rows": null,
            "grid_column": null,
            "grid_gap": null,
            "grid_row": null,
            "grid_template_areas": null,
            "grid_template_columns": null,
            "grid_template_rows": null,
            "height": null,
            "justify_content": null,
            "justify_items": null,
            "left": null,
            "margin": null,
            "max_height": null,
            "max_width": null,
            "min_height": null,
            "min_width": null,
            "object_fit": null,
            "object_position": null,
            "order": null,
            "overflow": null,
            "overflow_x": null,
            "overflow_y": null,
            "padding": null,
            "right": null,
            "top": null,
            "visibility": null,
            "width": null
          }
        },
        "3f64393e3352485c875b3e3f86aba48f": {
          "model_module": "@jupyter-widgets/controls",
          "model_module_version": "1.5.0",
          "model_name": "ProgressStyleModel",
          "state": {
            "_model_module": "@jupyter-widgets/controls",
            "_model_module_version": "1.5.0",
            "_model_name": "ProgressStyleModel",
            "_view_count": null,
            "_view_module": "@jupyter-widgets/base",
            "_view_module_version": "1.2.0",
            "_view_name": "StyleView",
            "bar_color": null,
            "description_width": ""
          }
        },
        "6a9fb817f49d479993f61d78de3dbe53": {
          "model_module": "@jupyter-widgets/controls",
          "model_module_version": "1.5.0",
          "model_name": "HTMLModel",
          "state": {
            "_dom_classes": [],
            "_model_module": "@jupyter-widgets/controls",
            "_model_module_version": "1.5.0",
            "_model_name": "HTMLModel",
            "_view_count": null,
            "_view_module": "@jupyter-widgets/controls",
            "_view_module_version": "1.5.0",
            "_view_name": "HTMLView",
            "description": "",
            "description_tooltip": null,
            "layout": "IPY_MODEL_19dd5f73afca4732aca6ba2816901cdf",
            "placeholder": "​",
            "style": "IPY_MODEL_cc8f91929a1548108527a0f8957beb0f",
            "value": " 50/50 [07:47&lt;00:00,  9.08s/it]"
          }
        },
        "a5297682ee3c42fcbf299a6258c18e99": {
          "model_module": "@jupyter-widgets/controls",
          "model_module_version": "1.5.0",
          "model_name": "FloatProgressModel",
          "state": {
            "_dom_classes": [],
            "_model_module": "@jupyter-widgets/controls",
            "_model_module_version": "1.5.0",
            "_model_name": "FloatProgressModel",
            "_view_count": null,
            "_view_module": "@jupyter-widgets/controls",
            "_view_module_version": "1.5.0",
            "_view_name": "ProgressView",
            "bar_style": "success",
            "description": "",
            "description_tooltip": null,
            "layout": "IPY_MODEL_b6b5643c9f5e43ddb1e558378fa29da1",
            "max": 50,
            "min": 0,
            "orientation": "horizontal",
            "style": "IPY_MODEL_3f64393e3352485c875b3e3f86aba48f",
            "value": 50
          }
        },
        "b6b5643c9f5e43ddb1e558378fa29da1": {
          "model_module": "@jupyter-widgets/base",
          "model_module_version": "1.2.0",
          "model_name": "LayoutModel",
          "state": {
            "_model_module": "@jupyter-widgets/base",
            "_model_module_version": "1.2.0",
            "_model_name": "LayoutModel",
            "_view_count": null,
            "_view_module": "@jupyter-widgets/base",
            "_view_module_version": "1.2.0",
            "_view_name": "LayoutView",
            "align_content": null,
            "align_items": null,
            "align_self": null,
            "border": null,
            "bottom": null,
            "display": null,
            "flex": null,
            "flex_flow": null,
            "grid_area": null,
            "grid_auto_columns": null,
            "grid_auto_flow": null,
            "grid_auto_rows": null,
            "grid_column": null,
            "grid_gap": null,
            "grid_row": null,
            "grid_template_areas": null,
            "grid_template_columns": null,
            "grid_template_rows": null,
            "height": null,
            "justify_content": null,
            "justify_items": null,
            "left": null,
            "margin": null,
            "max_height": null,
            "max_width": null,
            "min_height": null,
            "min_width": null,
            "object_fit": null,
            "object_position": null,
            "order": null,
            "overflow": null,
            "overflow_x": null,
            "overflow_y": null,
            "padding": null,
            "right": null,
            "top": null,
            "visibility": null,
            "width": null
          }
        },
        "be8a6478d63a4b38b5aaaec79cc24687": {
          "model_module": "@jupyter-widgets/controls",
          "model_module_version": "1.5.0",
          "model_name": "DescriptionStyleModel",
          "state": {
            "_model_module": "@jupyter-widgets/controls",
            "_model_module_version": "1.5.0",
            "_model_name": "DescriptionStyleModel",
            "_view_count": null,
            "_view_module": "@jupyter-widgets/base",
            "_view_module_version": "1.2.0",
            "_view_name": "StyleView",
            "description_width": ""
          }
        },
        "cc8f91929a1548108527a0f8957beb0f": {
          "model_module": "@jupyter-widgets/controls",
          "model_module_version": "1.5.0",
          "model_name": "DescriptionStyleModel",
          "state": {
            "_model_module": "@jupyter-widgets/controls",
            "_model_module_version": "1.5.0",
            "_model_name": "DescriptionStyleModel",
            "_view_count": null,
            "_view_module": "@jupyter-widgets/base",
            "_view_module_version": "1.2.0",
            "_view_name": "StyleView",
            "description_width": ""
          }
        }
      }
    }
  },
  "nbformat": 4,
  "nbformat_minor": 0
}
